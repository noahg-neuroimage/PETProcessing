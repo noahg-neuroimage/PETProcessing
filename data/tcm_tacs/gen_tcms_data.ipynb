{
 "cells": [
  {
   "cell_type": "markdown",
   "id": "fd5ae6a9-0ed5-41ff-b875-aa231e0687cb",
   "metadata": {},
   "source": [
    "# Preamble"
   ]
  },
  {
   "cell_type": "code",
   "execution_count": 3,
   "id": "c61266d6-58c0-4ff9-bc7d-49813e8ea4d1",
   "metadata": {
    "ExecuteTime": {
     "end_time": "2024-04-23T19:54:19.814161Z",
     "start_time": "2024-04-23T19:54:18.652983Z"
    }
   },
   "source": [
    "import numpy as np\n",
    "import matplotlib.pyplot as plt\n",
    "import seaborn as sns\n",
    "import petpal.kinetic_modeling.tcms_as_convolutions as pet_tcms\n",
    "import petpal.kinetic_modeling.tac_interpolation as pet_interp\n",
    "\n",
    "sns.set()\n",
    "sns.set_style(\"ticks\")\n",
    "sns.set_context(\"talk\")\n",
    "plt.rcParams['font.family'] ='StixGeneral'\n",
    "plt.rcParams['mathtext.fontset'] = 'stix'"
   ],
   "outputs": []
  },
  {
   "cell_type": "markdown",
   "id": "743cc75e-4a35-4af2-972a-9a949eb15087",
   "metadata": {},
   "source": [
    "# Getting FDG Input Function And Interpolating"
   ]
  },
  {
   "cell_type": "code",
   "execution_count": 4,
   "id": "3cb83888-8c82-403e-be24-0dec3ef892e9",
   "metadata": {
    "ExecuteTime": {
     "end_time": "2024-04-23T19:54:21.112275Z",
     "start_time": "2024-04-23T19:54:21.105574Z"
    }
   },
   "source": [
    "input_function = np.loadtxt(\"turku_pet_center_fdg_plasma_clamp.txt\", skiprows=1).T"
   ],
   "outputs": []
  },
  {
   "cell_type": "code",
   "execution_count": 5,
   "id": "598ef27e",
   "metadata": {
    "ExecuteTime": {
     "end_time": "2024-04-23T19:54:21.256064Z",
     "start_time": "2024-04-23T19:54:21.248909Z"
    }
   },
   "source": [
    "interp_input_woMax = pet_interp.EvenlyInterpolate(*input_function, delta_time=0.5).get_resampled_tac()"
   ],
   "outputs": []
  },
  {
   "cell_type": "code",
   "execution_count": 6,
   "id": "84ebbac8-3324-4261-8522-6c4f78288491",
   "metadata": {
    "ExecuteTime": {
     "end_time": "2024-04-23T19:54:21.582802Z",
     "start_time": "2024-04-23T19:54:21.577293Z"
    }
   },
   "source": [
    "interp_input = pet_interp.EvenlyInterpolateWithMax(*input_function, samples_before_max=5).get_resampled_tac()"
   ],
   "outputs": []
  },
  {
   "cell_type": "markdown",
   "id": "8bf3a82a",
   "metadata": {},
   "source": [
    "### Writing The Interpolated TACs To Disk"
   ]
  },
  {
   "cell_type": "code",
   "execution_count": 6,
   "id": "226846c2",
   "metadata": {
    "ExecuteTime": {
     "end_time": "2024-02-16T19:35:47.908313900Z",
     "start_time": "2024-02-16T19:35:47.879314700Z"
    }
   },
   "source": [
    "np.savetxt(f\"fdg_plasma_clamp_evenly_resampled_woMax.txt\", \n",
    "           fmt='%.6e',\n",
    "           X=interp_input_woMax.T, \n",
    "           header=f\"Evenly Resampled FDG Plasma TAC (From Turku PET Center)\\nTimes[minutes] Activity[kBq/ml]\")"
   ],
   "outputs": []
  },
  {
   "cell_type": "code",
   "execution_count": 7,
   "id": "c15b4619",
   "metadata": {
    "ExecuteTime": {
     "end_time": "2024-02-16T19:35:48.766314300Z",
     "start_time": "2024-02-16T19:35:48.676317100Z"
    }
   },
   "source": [
    "np.savetxt(f\"fdg_plasma_clamp_evenly_resampled.txt\", \n",
    "           fmt='%.6e',\n",
    "           X=interp_input.T, \n",
    "           header=f\"Evenly Resampled (Max Explicitly Sampled) FDG Plasma TAC (From Turku PET Center)\\nTimes[minutes] Activity[kBq/ml]\")"
   ],
   "outputs": []
  },
  {
   "cell_type": "markdown",
   "id": "bbf4f3a0",
   "metadata": {},
   "source": [
    "## Plotting"
   ]
  },
  {
   "cell_type": "code",
   "execution_count": 7,
   "id": "74fc7b03-a9cd-47b5-9f7d-97329b5f9e8f",
   "metadata": {
    "ExecuteTime": {
     "end_time": "2024-04-23T19:54:24.933439Z",
     "start_time": "2024-04-23T19:54:23.962057Z"
    }
   },
   "source": [
    "myFig, myAx = plt.subplots(1,2, figsize=[10,5], constrained_layout=True, sharey=True)\n",
    "for anAx in myAx.flatten():\n",
    "    anAx.plot(interp_input_woMax[0], interp_input_woMax[1], '.-', \n",
    "              label='Interpolated No Max', color='red', lw=3, alpha=0.8, ms=12)\n",
    "    anAx.plot(interp_input[0], interp_input[1]+10.5, '.-', \n",
    "              label='Interpolated With Max (Shifted)', color='blue', lw=3, alpha=0.8, ms=12)\n",
    "    anAx.plot(*input_function, 'x', label='Raw', color='black', mew=2)\n",
    "    \n",
    "myAx[0].set(ylabel=\"Activity [kBq/ml]\", xlabel='t [mins]', title='Linear')\n",
    "myAx[1].set(xscale=\"log\", xlabel='t [mins]', title='Semi-Log X')\n",
    "myFig.legend(*myAx[0].get_legend_handles_labels(), bbox_to_anchor=(1.0, 0.5), loc='center left')\n",
    "plt.savefig(f\"fdg_plasma_clamp_tacs.png\", bbox_inches='tight', dpi=72)\n",
    "plt.savefig(f\"fdg_plasma_clamp_tacs.pdf\", bbox_inches='tight')\n",
    "plt.show()"
   ],
   "outputs": []
  },
  {
   "cell_type": "markdown",
   "id": "45d32f8a-df65-4ef6-8fae-690900beff2c",
   "metadata": {},
   "source": [
    "# 1 TCM"
   ]
  },
  {
   "cell_type": "markdown",
   "id": "1440474b",
   "metadata": {},
   "source": [
    "## Plotting Examples"
   ]
  },
  {
   "cell_type": "code",
   "execution_count": 8,
   "id": "0a60334d-a9e4-4548-b3b5-bef3c7e3b68a",
   "metadata": {
    "ExecuteTime": {
     "end_time": "2024-04-23T19:54:26.462672Z",
     "start_time": "2024-04-23T19:54:26.459803Z"
    }
   },
   "source": [
    "def tcm_1tcm_label(k1, k2):\n",
    "    return fr\"$k_{{1}}={k1:<3.2f};\\, k_{{2}}={k2:<3.2f}$\""
   ],
   "outputs": []
  },
  {
   "cell_type": "code",
   "execution_count": 11,
   "id": "e7062e1a",
   "metadata": {
    "ExecuteTime": {
     "end_time": "2024-04-23T19:54:33.205843Z",
     "start_time": "2024-04-23T19:54:33.201137Z"
    }
   },
   "source": [
    "# The list is ordered such that all k1 values are listed, then all k2 values and so on. Like the transpose of the parameters.\n",
    "TCM_1TCM_VALS_KVALS = [[1.0, 0.25, 0.1], [0.25, 1.0, 0.0]]"
   ],
   "outputs": []
  },
  {
   "cell_type": "markdown",
   "id": "91d15de0",
   "metadata": {},
   "source": [
    "### Noise Free"
   ]
  },
  {
   "cell_type": "code",
   "execution_count": 12,
   "id": "3c3a49af-3216-4519-b33b-e386ea4b0a2f",
   "metadata": {
    "ExecuteTime": {
     "end_time": "2024-04-23T19:54:34.789854Z",
     "start_time": "2024-04-23T19:54:34.043197Z"
    }
   },
   "source": [
    "myFig, myAx = plt.subplots(1,2, figsize=[10,5], constrained_layout=True, sharey=True)\n",
    "for anAx in myAx.flatten():\n",
    "    anAx.plot(*interp_input, 'x', label='pTAC', color='black', alpha=0.8, mew=3)\n",
    "    for kVals in zip(*TCM_1TCM_VALS_KVALS):\n",
    "        tcm_tac = pet_tcms.generate_tac_1tcm_c1_from_tac(*interp_input, *kVals)\n",
    "        anAx.plot(*tcm_tac, '.-', alpha=0.9, label=tcm_1tcm_label(*kVals))\n",
    "myAx[0].set(ylabel=\"Activity [kBq/ml]\", xlabel='$t$ [mins]', title='Linear')\n",
    "myAx[1].set(xscale=\"log\", xlabel='$t$ [mins]', title='SemiLogX')\n",
    "myFig.legend(*myAx[0].get_legend_handles_labels(), bbox_to_anchor=(1.0, 0.5), loc='center left', title='1TCM')\n",
    "plt.savefig(f\"1tcm/noise_free/tacs.png\", bbox_inches='tight', dpi=72)\n",
    "plt.savefig(f\"1tcm/noise_free/tacs.pdf\", bbox_inches='tight')\n",
    "plt.show()"
   ],
   "outputs": []
  },
  {
   "cell_type": "markdown",
   "id": "24795c30",
   "metadata": {},
   "source": [
    "### Gaussian Noise"
   ]
  },
  {
   "cell_type": "markdown",
   "id": "cc9325c5",
   "metadata": {},
   "source": [
    "Adding Gaussian noise where \n",
    "$$\n",
    "\\sigma = \\frac{\\int_{t_0}^{t^n}C_\\mathrm{P}(t)\\mathrm{d}t}{t_n - t_0},\n",
    "$$\n",
    "or the average value of the pTAC used for generating the tTACs."
   ]
  },
  {
   "cell_type": "code",
   "execution_count": 13,
   "id": "7a814cbe",
   "metadata": {
    "ExecuteTime": {
     "end_time": "2024-04-23T19:54:40.935778Z",
     "start_time": "2024-04-23T19:54:40.930000Z"
    }
   },
   "source": [
    "noise_level = np.trapz(x=interp_input[0], y=interp_input[1])/(interp_input[0][-1]-interp_input[0][0])"
   ],
   "outputs": []
  },
  {
   "cell_type": "code",
   "execution_count": 14,
   "id": "744a2605",
   "metadata": {
    "ExecuteTime": {
     "end_time": "2024-04-23T19:54:42.317514Z",
     "start_time": "2024-04-23T19:54:41.469902Z"
    }
   },
   "source": [
    "myFig, myAx = plt.subplots(1,2, figsize=[10,5], constrained_layout=True, sharey=True)\n",
    "for anAx in myAx.flatten():\n",
    "    anAx.plot(*interp_input, 'x', label='pTAC', color='black', alpha=0.8, mew=3)\n",
    "    for (k1, k2) in zip(*TCM_1TCM_VALS_KVALS):\n",
    "        tcm_tac = pet_tcms.generate_tac_1tcm_c1_from_tac(*interp_input, k1=k1, k2=k2)\n",
    "        tcm_tac[1] += np.random.normal(loc=0.0, scale=noise_level, size=len(tcm_tac[1]))\n",
    "        anAx.plot(*tcm_tac, '.-', alpha=0.9, label=tcm_1tcm_label(k1, k2))\n",
    "myAx[0].set(ylabel=\"Activity [kBq/ml]\", xlabel='$t$ [mins]', title='Linear')\n",
    "myAx[1].set(xscale=\"log\", xlabel='$t$ [mins]', title='SemiLogX')\n",
    "myFig.legend(*myAx[0].get_legend_handles_labels(), bbox_to_anchor=(1.0, 0.5), loc='center left', title='1TCM')\n",
    "plt.savefig(f\"1tcm/gaussian_noise/tacs.png\", bbox_inches='tight', dpi=72)\n",
    "plt.savefig(f\"1tcm/gaussian_noise/tacs.pdf\", bbox_inches='tight')\n",
    "plt.show()"
   ],
   "outputs": []
  },
  {
   "cell_type": "markdown",
   "id": "43d32e36",
   "metadata": {},
   "source": [
    "## Writing To Disk"
   ]
  },
  {
   "cell_type": "code",
   "execution_count": 15,
   "id": "fe73ee2f",
   "metadata": {
    "ExecuteTime": {
     "end_time": "2024-04-23T19:54:45.097269Z",
     "start_time": "2024-04-23T19:54:45.087238Z"
    }
   },
   "source": [
    "def param_writer(kVals):\n",
    "    tmp = []\n",
    "    for vID, val in enumerate(kVals):\n",
    "        tmp.append(f'k{vID+1}:{val:.2f}')\n",
    "    return \"; \".join(tmp)\n",
    "\n",
    "for kID, kVals in enumerate(zip(*TCM_1TCM_VALS_KVALS)):\n",
    "    print(param_writer(kVals))"
   ],
   "outputs": []
  },
  {
   "cell_type": "code",
   "execution_count": 16,
   "id": "af4e6515a4d8498d",
   "metadata": {
    "ExecuteTime": {
     "end_time": "2024-04-23T19:54:45.737204Z",
     "start_time": "2024-04-23T19:54:45.728783Z"
    }
   },
   "source": [
    "def param_to_dict(kVals):\n",
    "    return {f\"k{i+1}\":val for i, val in enumerate(kVals)}\n",
    "\n",
    "for kID, kVals in enumerate(zip(*TCM_1TCM_VALS_KVALS)):\n",
    "    print(param_to_dict(kVals))"
   ],
   "outputs": []
  },
  {
   "cell_type": "code",
   "execution_count": 17,
   "id": "d7f8219e19ff4e10",
   "metadata": {
    "ExecuteTime": {
     "end_time": "2024-04-23T19:54:47.086201Z",
     "start_time": "2024-04-23T19:54:47.076545Z"
    }
   },
   "source": [
    "import json\n",
    "for i, vals in enumerate(zip(*TCM_1TCM_VALS_KVALS)):\n",
    "    params = {'model':'1TCM', 'params':param_to_dict(vals)}\n",
    "    with open(f\"1tcm/params_1tcm_set-{i:02}.json\", \"w+\") as file:\n",
    "        json.dump(obj=params, fp=file, indent=4)"
   ],
   "outputs": []
  },
  {
   "cell_type": "markdown",
   "id": "7388fb54",
   "metadata": {},
   "source": [
    "### Noise Free"
   ]
  },
  {
   "cell_type": "code",
   "execution_count": 18,
   "id": "ff8e2c4a",
   "metadata": {
    "ExecuteTime": {
     "end_time": "2024-04-23T19:54:48.462095Z",
     "start_time": "2024-04-23T19:54:48.446254Z"
    }
   },
   "source": [
    "for pID, kVals in enumerate(zip(*TCM_1TCM_VALS_KVALS)):\n",
    "    tcm_tac = pet_tcms.generate_tac_1tcm_c1_from_tac(*interp_input, *kVals)\n",
    "    np.savetxt(f\"1tcm/noise_free/tac_1tcm_set-{pID:02}.txt\", \n",
    "               fmt='%.6e',\n",
    "               X=tcm_tac.T, \n",
    "               header=f\"1TCM with {param_writer(kVals)}\\nTimes[minutes] Activity[kBq/ml]\")\n"
   ],
   "outputs": []
  },
  {
   "cell_type": "markdown",
   "id": "4eb02261",
   "metadata": {},
   "source": [
    "### Gaussian Noise"
   ]
  },
  {
   "cell_type": "code",
   "execution_count": 19,
   "id": "632cf641",
   "metadata": {
    "ExecuteTime": {
     "end_time": "2024-04-23T19:54:50.570025Z",
     "start_time": "2024-04-23T19:54:50.555030Z"
    }
   },
   "source": [
    "for pID, kVals in enumerate(zip(*TCM_1TCM_VALS_KVALS)):\n",
    "    tcm_tac = pet_tcms.generate_tac_1tcm_c1_from_tac(*interp_input, *kVals)\n",
    "    tcm_tac[1] += np.random.normal(loc=0.0, scale=noise_level, size=len(tcm_tac[1]))\n",
    "    np.savetxt(f\"1tcm/gaussian_noise/tac_1tcm_set-{pID:02}.txt\", \n",
    "               fmt='%.6e',\n",
    "               X=tcm_tac.T, \n",
    "               header=f\"1TCM with {param_writer(kVals)}\\nTimes[minutes] Activity[kBq/ml]\")\n"
   ],
   "outputs": []
  },
  {
   "cell_type": "markdown",
   "id": "2e1d244e-546a-48d2-87b1-8054614ef34d",
   "metadata": {},
   "source": [
    "# 2TCM With $k_{4}=0$"
   ]
  },
  {
   "cell_type": "code",
   "execution_count": 20,
   "id": "5b10deed-9de6-4976-a902-b3b04070a64f",
   "metadata": {
    "ExecuteTime": {
     "end_time": "2024-04-23T19:54:51.228838Z",
     "start_time": "2024-04-23T19:54:51.223833Z"
    }
   },
   "source": [
    "def tcm_2tcm_label(k1, k2, k3, k4=0.0):\n",
    "    if k4 == 0.0:\n",
    "        return fr\"$k_{{1}}={k1:<3.2f};\\, k_{{2}}={k2:<3.2f};\\, k_{{3}}={k3:<3.2f}$\"\n",
    "    else:\n",
    "        return fr\"$k_{{1}}={k1:<3.2f};\\, k_{{2}}={k2:<3.2f};\\, k_{{3}}={k3:<3.2f};\\, k_{{4}}={k4:<3.2f}$\""
   ],
   "outputs": []
  },
  {
   "cell_type": "markdown",
   "id": "b271fd89",
   "metadata": {},
   "source": [
    "## Plotting Examples"
   ]
  },
  {
   "cell_type": "markdown",
   "id": "46e4502e-8794-4acf-8ac7-cf80154d4259",
   "metadata": {},
   "source": [
    "### $C_1$"
   ]
  },
  {
   "cell_type": "code",
   "execution_count": 21,
   "id": "196b8cd9",
   "metadata": {
    "ExecuteTime": {
     "end_time": "2024-04-23T19:55:08.852023Z",
     "start_time": "2024-04-23T19:55:08.846877Z"
    }
   },
   "source": [
    "# The list is ordered such that all k1 values are listed, then all k2 values and so on. Like the transpose of the parameters.\n",
    "TCM_2TCM_KZERO_VALS_KVALS =[[0.5, 0.5], [0.5, 0.5], [0.01, 0.25]]"
   ],
   "outputs": []
  },
  {
   "cell_type": "code",
   "execution_count": 22,
   "id": "623e4a50",
   "metadata": {
    "ExecuteTime": {
     "end_time": "2024-04-23T19:55:09.422806Z",
     "start_time": "2024-04-23T19:55:09.101135Z"
    }
   },
   "source": [
    "myFig, myAx = plt.subplots(1,2, figsize=[10,5], constrained_layout=True, sharey=True)\n",
    "for anAx in myAx.flatten():\n",
    "    anAx.plot(*interp_input, 'x', label='pTAC', color='black', alpha=0.8, mew=3)\n",
    "    for kID, kVals in enumerate(zip(*TCM_2TCM_KZERO_VALS_KVALS)):\n",
    "        tcm_tac = pet_tcms.generate_tac_2tcm_with_k4zero_c1_from_tac(*interp_input, *kVals)\n",
    "        anAx.plot(*tcm_tac, '.-', alpha=0.9, label=tcm_2tcm_label(*kVals))\n",
    "myAx[0].set(ylabel=\"Activity [kBq/ml]\", xlabel='$t$ [mins]', title='Linear')\n",
    "myAx[1].set(xscale=\"log\", xlabel='$t$ [mins]', title='SemiLogX')\n",
    "myFig.legend(*myAx[0].get_legend_handles_labels(), bbox_to_anchor=(1.0, 0.5), loc='center left', title='2TCM')\n",
    "plt.show()"
   ],
   "outputs": []
  },
  {
   "cell_type": "markdown",
   "id": "512a3cdb-4c32-49c2-8b6c-950e0c86165d",
   "metadata": {},
   "source": [
    "### $C_2$"
   ]
  },
  {
   "cell_type": "code",
   "execution_count": 23,
   "id": "d65fc1f7",
   "metadata": {
    "ExecuteTime": {
     "end_time": "2024-04-23T19:55:10.620171Z",
     "start_time": "2024-04-23T19:55:10.292107Z"
    }
   },
   "source": [
    "myFig, myAx = plt.subplots(1,2, figsize=[10,5], constrained_layout=True, sharey=True)\n",
    "for anAx in myAx.flatten():\n",
    "    anAx.plot(*interp_input, 'x', label='pTAC', color='black', alpha=0.8, mew=3)\n",
    "    for kID, kVals in enumerate(zip(*TCM_2TCM_KZERO_VALS_KVALS)):\n",
    "        tcm_tac = pet_tcms.generate_tac_2tcm_with_k4zero_c2_from_tac(*interp_input, *kVals)\n",
    "        anAx.plot(*tcm_tac, '.-', alpha=0.9, label=tcm_2tcm_label(*kVals))\n",
    "myAx[0].set(ylabel=\"Activity [kBq/ml]\", xlabel='$t$ [mins]', title='Linear')\n",
    "myAx[1].set(xscale=\"log\", xlabel='$t$ [mins]', title='SemiLogX')\n",
    "myFig.legend(*myAx[0].get_legend_handles_labels(), bbox_to_anchor=(1.0, 0.5), loc='center left', title='2TCM')\n",
    "plt.show()"
   ],
   "outputs": []
  },
  {
   "cell_type": "markdown",
   "id": "d56d4e61-56e5-453a-9cbd-290308d4897d",
   "metadata": {},
   "source": [
    "### $C_\\mathrm{PET}$"
   ]
  },
  {
   "cell_type": "markdown",
   "id": "64579d2f",
   "metadata": {},
   "source": [
    "#### Noise Free"
   ]
  },
  {
   "cell_type": "code",
   "execution_count": 24,
   "id": "3a7cc65d",
   "metadata": {
    "ExecuteTime": {
     "end_time": "2024-04-23T19:55:12.790309Z",
     "start_time": "2024-04-23T19:55:12.050080Z"
    }
   },
   "source": [
    "myFig, myAx = plt.subplots(1,2, figsize=[10,5], constrained_layout=True, sharey=True)\n",
    "for anAx in myAx.flatten():\n",
    "    anAx.plot(*interp_input, 'x', label='pTAC', color='black', alpha=0.8, mew=3)\n",
    "    for kID, kVals in enumerate(zip(*TCM_2TCM_KZERO_VALS_KVALS)):\n",
    "        tcm_tac = pet_tcms.generate_tac_2tcm_with_k4zero_cpet_from_tac(*interp_input, *kVals)\n",
    "        anAx.plot(*tcm_tac, '.-', alpha=0.9, label=tcm_2tcm_label(*kVals))\n",
    "myAx[0].set(ylabel=\"Activity [kBq/ml]\", xlabel='$t$ [mins]', title='Linear')\n",
    "myAx[1].set(xscale=\"log\", xlabel='$t$ [mins]', title='SemiLogX')\n",
    "myFig.legend(*myAx[0].get_legend_handles_labels(), bbox_to_anchor=(1.0, 0.5), loc='center left', title=r'2TCM ($k_4=0$)')\n",
    "plt.savefig(f\"serial_2tcm_k4zero/noise_free/tacs.png\", bbox_inches='tight', dpi=72)\n",
    "plt.savefig(f\"serial_2tcm_k4zero/noise_free/tacs.pdf\", bbox_inches='tight')\n",
    "plt.show()"
   ],
   "outputs": []
  },
  {
   "cell_type": "markdown",
   "id": "170f9f2c",
   "metadata": {},
   "source": [
    "#### Gaussian Noise"
   ]
  },
  {
   "cell_type": "code",
   "execution_count": 25,
   "id": "a5335c53",
   "metadata": {
    "ExecuteTime": {
     "end_time": "2024-04-23T19:55:15.844437Z",
     "start_time": "2024-04-23T19:55:15.054097Z"
    }
   },
   "source": [
    "myFig, myAx = plt.subplots(1,2, figsize=[10,5], constrained_layout=True, sharey=True)\n",
    "for anAx in myAx.flatten():\n",
    "    anAx.plot(*interp_input, 'x', label='pTAC', color='black', alpha=0.8, mew=3)\n",
    "    for kID, kVals in enumerate(zip(*TCM_2TCM_KZERO_VALS_KVALS)):\n",
    "        tcm_tac = pet_tcms.generate_tac_2tcm_with_k4zero_cpet_from_tac(*interp_input, *kVals)\n",
    "        tcm_tac[1] += np.random.normal(loc=0.0, scale=noise_level, size=len(tcm_tac[1]))\n",
    "        anAx.plot(*tcm_tac, '.-', alpha=0.9, label=tcm_2tcm_label(*kVals))\n",
    "myAx[0].set(ylabel=\"Activity [kBq/ml]\", xlabel='$t$ [mins]', title='Linear')\n",
    "myAx[1].set(xscale=\"log\", xlabel='$t$ [mins]', title='SemiLogX')\n",
    "myFig.legend(*myAx[0].get_legend_handles_labels(), bbox_to_anchor=(1.0, 0.5), loc='center left', title=r'2TCM ($k_4=0$)')\n",
    "plt.savefig(f\"serial_2tcm_k4zero/gaussian_noise/tacs.png\", bbox_inches='tight', dpi=72)\n",
    "plt.savefig(f\"serial_2tcm_k4zero/gaussian_noise/tacs.pdf\", bbox_inches='tight')\n",
    "plt.show()"
   ],
   "outputs": []
  },
  {
   "cell_type": "markdown",
   "id": "bcc5d53f-2562-441e-ae49-ace55d3c4391",
   "metadata": {},
   "source": [
    "### $\\partial_{t}C_\\mathrm{PET}$"
   ]
  },
  {
   "cell_type": "code",
   "execution_count": 26,
   "id": "f2e5685c",
   "metadata": {
    "ExecuteTime": {
     "end_time": "2024-04-23T19:55:17.700791Z",
     "start_time": "2024-04-23T19:55:17.432956Z"
    }
   },
   "source": [
    "myFig, myAx = plt.subplots(1,2, figsize=[10,5], constrained_layout=True, sharey=True)\n",
    "for anAx in myAx.flatten():\n",
    "#     anAx.plot(*interp_input, 'x', label='pTAC', color='black', alpha=0.8, mew=3)\n",
    "    for kID, kVals in enumerate(zip(*TCM_2TCM_KZERO_VALS_KVALS)):\n",
    "        tcm_tac = pet_tcms.generate_tac_2tcm_with_k4zero_cpet_from_tac(*interp_input, *kVals)\n",
    "#         tcm_tac[1] += np.random.normal(loc=0.0, scale=noise_level, size=len(tcm_tac[1]))\n",
    "        anAx.plot(tcm_tac[0], np.gradient(tcm_tac[1]), '.-', alpha=0.9, label=tcm_2tcm_label(*kVals))\n",
    "myAx[0].set(ylabel=\"Activity Rate [kBq/ml/s]\", xlabel='$t$ [mins]', title='Linear')\n",
    "myAx[1].set(xscale=\"log\", xlabel='$t$ [mins]', title='SemiLogX')\n",
    "myFig.legend(*myAx[0].get_legend_handles_labels(), bbox_to_anchor=(1.0, 0.5), loc='center left', title=r'2TCM ($k_4=0$)')\n",
    "plt.show()"
   ],
   "outputs": []
  },
  {
   "cell_type": "markdown",
   "id": "98e873ed",
   "metadata": {},
   "source": [
    "## Writing To Disk"
   ]
  },
  {
   "cell_type": "code",
   "execution_count": 27,
   "id": "71950ec1a7972bd3",
   "metadata": {
    "ExecuteTime": {
     "end_time": "2024-04-23T19:55:19.012043Z",
     "start_time": "2024-04-23T19:55:19.003596Z"
    }
   },
   "source": [
    "import json\n",
    "for i, vals in enumerate(zip(*TCM_2TCM_KZERO_VALS_KVALS)):\n",
    "    params = {'model':'Serial 2TCM (k4=0)', 'params':param_to_dict(vals)}\n",
    "    with open(f\"serial_2tcm_k4zero/params_serial_2tcm_k4zero_set-{i:02}.json\", \"w+\") as file:\n",
    "        json.dump(obj=params, fp=file, indent=4)"
   ],
   "outputs": []
  },
  {
   "cell_type": "markdown",
   "id": "b406fe8a",
   "metadata": {},
   "source": [
    "### Noise Free"
   ]
  },
  {
   "cell_type": "code",
   "execution_count": 28,
   "id": "ebcd34b1",
   "metadata": {
    "ExecuteTime": {
     "end_time": "2024-04-23T19:55:19.631406Z",
     "start_time": "2024-04-23T19:55:19.618669Z"
    }
   },
   "source": [
    "for pID, kVals in enumerate(zip(*TCM_2TCM_KZERO_VALS_KVALS)):\n",
    "    tcm_tac = pet_tcms.generate_tac_2tcm_with_k4zero_cpet_from_tac(*interp_input, *kVals)\n",
    "    np.savetxt(f\"serial_2tcm_k4zero/noise_free/tac_2tcm_k4zero_set-{pID:02}.txt\", \n",
    "               fmt='%.6e',\n",
    "               X=tcm_tac.T, \n",
    "               header=f\"Serial 2TCM (k4=0) with {param_writer(kVals)}\\nTimes[minutes] Activity[kBq/ml]\")\n"
   ],
   "outputs": []
  },
  {
   "cell_type": "markdown",
   "id": "c21b789d",
   "metadata": {},
   "source": [
    "## Gaussian Noise"
   ]
  },
  {
   "cell_type": "code",
   "execution_count": 29,
   "id": "8b436f2a",
   "metadata": {
    "ExecuteTime": {
     "end_time": "2024-04-23T19:55:20.248898Z",
     "start_time": "2024-04-23T19:55:20.236739Z"
    }
   },
   "source": [
    "for pID, kVals in enumerate(zip(*TCM_2TCM_KZERO_VALS_KVALS)):\n",
    "    tcm_tac = pet_tcms.generate_tac_2tcm_with_k4zero_cpet_from_tac(*interp_input, *kVals)\n",
    "    tcm_tac[1] += np.random.normal(loc=0.0, scale=noise_level, size=len(tcm_tac[1]))\n",
    "    np.savetxt(f\"serial_2tcm_k4zero/gaussian_noise/tac_2tcm_k4zero_set-{pID:02}.txt\",\n",
    "               fmt='%.6e',\n",
    "               X=tcm_tac.T, \n",
    "               header=f\"Serial 2TCM (k4=0) with {param_writer(kVals)}\\nTimes[minutes] Activity[kBq/ml]\")\n"
   ],
   "outputs": []
  },
  {
   "cell_type": "markdown",
   "id": "b9929287-e264-4a85-a683-4829a497aa68",
   "metadata": {},
   "source": [
    "# Full Serial 2TCM"
   ]
  },
  {
   "cell_type": "markdown",
   "id": "23ab1f7e",
   "metadata": {},
   "source": [
    "## Plotting Examples"
   ]
  },
  {
   "cell_type": "code",
   "execution_count": 30,
   "id": "d18746d6",
   "metadata": {
    "ExecuteTime": {
     "end_time": "2024-04-23T19:55:25.625249Z",
     "start_time": "2024-04-23T19:55:25.620605Z"
    }
   },
   "source": [
    "# The list is ordered such that all k1 values are listed, then all k2 values and so on. Like the transpose of the parameters.\n",
    "TCM_FULL_2TCM_VALS_KVALS = [[0.5, 0.5, 0.5],\n",
    "                            [0.85, 0.85, 0.85],\n",
    "                            [0.01, 0.25, 0.25],\n",
    "                            [0.01, 0.01, 0.15]]"
   ],
   "outputs": []
  },
  {
   "cell_type": "markdown",
   "id": "6ff4bb89-bd07-4e2a-8bc6-175b3c56a936",
   "metadata": {},
   "source": [
    "### $C_1$"
   ]
  },
  {
   "cell_type": "code",
   "execution_count": 31,
   "id": "2f1e6dbb",
   "metadata": {
    "ExecuteTime": {
     "end_time": "2024-04-23T19:55:26.879290Z",
     "start_time": "2024-04-23T19:55:26.515885Z"
    }
   },
   "source": [
    "myFig, myAx = plt.subplots(1,2, figsize=[10,5], constrained_layout=True, sharey=True)\n",
    "for anAx in myAx.flatten():\n",
    "    anAx.plot(*interp_input, 'x', label='pTAC', color='black', alpha=0.8, mew=3)\n",
    "    for kID, kVals in enumerate(zip(*TCM_FULL_2TCM_VALS_KVALS)):\n",
    "        tcm_tac = pet_tcms.generate_tac_serial_2tcm_c1_from_tac(*interp_input, *kVals)\n",
    "        anAx.plot(*tcm_tac, '.-', alpha=0.9, label=tcm_2tcm_label(*kVals))\n",
    "myAx[0].set(ylabel=\"Activity [kBq/ml]\", xlabel='$t$ [mins]', title='Linear')\n",
    "myAx[1].set(xscale=\"log\", xlabel='$t$ [mins]', title='SemiLogX')\n",
    "myFig.legend(*myAx[0].get_legend_handles_labels(), bbox_to_anchor=(1.0, 0.5), loc='center left', title=r'2TCM')\n",
    "plt.show()"
   ],
   "outputs": []
  },
  {
   "cell_type": "markdown",
   "id": "7af2aab1-8fde-45a9-b7e9-447fd34ca6c9",
   "metadata": {},
   "source": [
    "### $C_{2}$"
   ]
  },
  {
   "cell_type": "code",
   "execution_count": 32,
   "id": "043e7956",
   "metadata": {
    "ExecuteTime": {
     "end_time": "2024-04-23T19:55:27.724117Z",
     "start_time": "2024-04-23T19:55:27.364273Z"
    }
   },
   "source": [
    "myFig, myAx = plt.subplots(1,2, figsize=[10,5], constrained_layout=True, sharey=True)\n",
    "for anAx in myAx.flatten():\n",
    "    anAx.plot(*interp_input, 'x', label='pTAC', color='black', alpha=0.8, mew=3)\n",
    "    for kID, kVals in enumerate(zip(*TCM_FULL_2TCM_VALS_KVALS)):\n",
    "        tcm_tac = pet_tcms.generate_tac_serial_2tcm_c2_from_tac(*interp_input, *kVals)\n",
    "        anAx.plot(*tcm_tac, '.-', alpha=0.9, label=tcm_2tcm_label(*kVals))\n",
    "myAx[0].set(ylabel=\"Activity [kBq/ml]\", xlabel='$t$ [mins]', title='Linear')\n",
    "myAx[1].set(xscale=\"log\", xlabel='$t$ [mins]', title='SemiLogX')\n",
    "myFig.legend(*myAx[0].get_legend_handles_labels(), bbox_to_anchor=(1.0, 0.5), loc='center left', title=r'2TCM ($k_4=0$)')\n",
    "plt.show()"
   ],
   "outputs": []
  },
  {
   "cell_type": "markdown",
   "id": "94c25002-e855-41e0-9108-09ff4a03a206",
   "metadata": {},
   "source": [
    "### $C_\\mathrm{PET}$"
   ]
  },
  {
   "cell_type": "markdown",
   "id": "6c712115",
   "metadata": {},
   "source": [
    "#### Noise Free"
   ]
  },
  {
   "cell_type": "code",
   "execution_count": 33,
   "id": "88428dfb",
   "metadata": {
    "ExecuteTime": {
     "end_time": "2024-04-23T19:55:30.114749Z",
     "start_time": "2024-04-23T19:55:29.278053Z"
    }
   },
   "source": [
    "myFig, myAx = plt.subplots(1,2, figsize=[10,5], constrained_layout=True, sharey=True)\n",
    "for anAx in myAx.flatten():\n",
    "    anAx.plot(*interp_input, 'x', label='pTAC', color='black', alpha=0.8, mew=3)\n",
    "    for kID, kVals in enumerate(zip(*TCM_FULL_2TCM_VALS_KVALS)):\n",
    "        tcm_tac = pet_tcms.generate_tac_serial_2tcm_cpet_from_tac(*interp_input, *kVals)\n",
    "        anAx.plot(*tcm_tac, '.-', alpha=0.9, label=tcm_2tcm_label(*kVals))\n",
    "myAx[0].set(ylabel=\"Activity [kBq/ml]\", xlabel='$t$ [mins]', title='Linear')\n",
    "myAx[1].set(xscale=\"log\", xlabel='$t$ [mins]', title='SemiLogX')\n",
    "myFig.legend(*myAx[0].get_legend_handles_labels(), bbox_to_anchor=(1.0, 0.5), loc='center left', title=r'Serial 2TCM')\n",
    "plt.savefig(f\"serial_2tcm/noise_free/tacs.png\", bbox_inches='tight', dpi=72)\n",
    "plt.savefig(f\"serial_2tcm/noise_free/tacs.pdf\", bbox_inches='tight')\n",
    "plt.show()"
   ],
   "outputs": []
  },
  {
   "cell_type": "markdown",
   "id": "9ff5ae50",
   "metadata": {},
   "source": [
    "#### Gaussian Noise"
   ]
  },
  {
   "cell_type": "code",
   "execution_count": 34,
   "id": "955e2a9e",
   "metadata": {
    "ExecuteTime": {
     "end_time": "2024-04-23T19:55:31.948317Z",
     "start_time": "2024-04-23T19:55:31.098341Z"
    }
   },
   "source": [
    "myFig, myAx = plt.subplots(1,2, figsize=[10,5], constrained_layout=True, sharey=True)\n",
    "for anAx in myAx.flatten():\n",
    "    anAx.plot(*interp_input, 'x', label='pTAC', color='black', alpha=0.8, mew=3)\n",
    "    for kID, kVals in enumerate(zip(*TCM_FULL_2TCM_VALS_KVALS)):\n",
    "        tcm_tac = pet_tcms.generate_tac_serial_2tcm_cpet_from_tac(*interp_input, *kVals)\n",
    "        tcm_tac[1] += np.random.normal(loc=0.0, scale=noise_level, size=len(tcm_tac[1]))\n",
    "        anAx.plot(*tcm_tac, '.-', alpha=0.9, label=tcm_2tcm_label(*kVals))\n",
    "myAx[0].set(ylabel=\"Activity [kBq/ml]\", xlabel='$t$ [mins]', title='Linear')\n",
    "myAx[1].set(xscale=\"log\", xlabel='$t$ [mins]', title='SemiLogX')\n",
    "myFig.legend(*myAx[0].get_legend_handles_labels(), bbox_to_anchor=(1.0, 0.5), loc='center left', title=r'Serial 2TCM')\n",
    "plt.savefig(f\"serial_2tcm/gaussian_noise/tacs.png\", bbox_inches='tight', dpi=72)\n",
    "plt.savefig(f\"serial_2tcm/gaussian_noise/tacs.pdf\", bbox_inches='tight')\n",
    "plt.show()"
   ],
   "outputs": []
  },
  {
   "cell_type": "markdown",
   "id": "14e70e6a-1e1d-43ed-9992-284e34537edd",
   "metadata": {},
   "source": [
    "### $\\partial_{t}C_\\mathrm{PET}$"
   ]
  },
  {
   "cell_type": "code",
   "execution_count": 35,
   "id": "2423720e",
   "metadata": {
    "ExecuteTime": {
     "end_time": "2024-04-23T19:55:33.439931Z",
     "start_time": "2024-04-23T19:55:33.138607Z"
    }
   },
   "source": [
    "myFig, myAx = plt.subplots(1,2, figsize=[10,5], constrained_layout=True, sharey=True)\n",
    "for anAx in myAx.flatten():\n",
    "    anAx.axhline(0.0, ls='--', color='black', lw=3, alpha=0.8)\n",
    "    for kID, kVals in enumerate(zip(*TCM_FULL_2TCM_VALS_KVALS)):\n",
    "        tcm_tac = pet_tcms.generate_tac_serial_2tcm_cpet_from_tac(*interp_input, *kVals)\n",
    "        anAx.plot(tcm_tac[0], np.gradient(tcm_tac[1]), '.-', alpha=0.9, label=tcm_2tcm_label(*kVals))\n",
    "myAx[0].set(ylabel=\"Activity [kBq/ml]\", xlabel='$t$ [mins]', title='Linear', ylim=(-1,1))\n",
    "myAx[1].set(xscale=\"log\", xlabel='$t$ [mins]', title='SemiLogX')\n",
    "myFig.legend(*myAx[0].get_legend_handles_labels(), bbox_to_anchor=(1.0, 0.5), loc='center left', title=r'Serial 2TCM')\n",
    "plt.show()"
   ],
   "outputs": []
  },
  {
   "cell_type": "markdown",
   "id": "7c7d72ef",
   "metadata": {},
   "source": [
    "## Writing To Disk"
   ]
  },
  {
   "cell_type": "code",
   "execution_count": 36,
   "id": "65d857e52b2de1c4",
   "metadata": {
    "ExecuteTime": {
     "end_time": "2024-04-23T19:55:34.694745Z",
     "start_time": "2024-04-23T19:55:34.686753Z"
    }
   },
   "source": [
    "import json\n",
    "for i, vals in enumerate(zip(*TCM_FULL_2TCM_VALS_KVALS)):\n",
    "    params = {'model':'Serial 2TCM', 'params':param_to_dict(vals)}\n",
    "    with open(f\"serial_2tcm/params_serial_2tcm_set-{i:02}.json\", \"w+\") as file:\n",
    "        json.dump(obj=params, fp=file, indent=4)"
   ],
   "outputs": []
  },
  {
   "cell_type": "markdown",
   "id": "ab3ba1c9",
   "metadata": {},
   "source": [
    "### Noise Free"
   ]
  },
  {
   "cell_type": "code",
   "execution_count": 37,
   "id": "16440de0",
   "metadata": {
    "ExecuteTime": {
     "end_time": "2024-04-23T19:55:35.590791Z",
     "start_time": "2024-04-23T19:55:35.574757Z"
    }
   },
   "source": [
    "for pID, kVals in enumerate(zip(*TCM_FULL_2TCM_VALS_KVALS)):\n",
    "    tcm_tac = pet_tcms.generate_tac_serial_2tcm_cpet_from_tac(*interp_input, *kVals)\n",
    "    np.savetxt(f\"serial_2tcm/noise_free/tac_2tcm_set-{pID:02}.txt\", \n",
    "               fmt='%.6e',\n",
    "               X=tcm_tac.T, \n",
    "               header=f\"Serial 2TCM with {param_writer(kVals)}\\nTimes[minutes] Activity[kBq/ml]\")"
   ],
   "outputs": []
  },
  {
   "cell_type": "markdown",
   "id": "ac728009",
   "metadata": {},
   "source": [
    "### Gaussian Noise"
   ]
  },
  {
   "cell_type": "code",
   "execution_count": 38,
   "id": "62efa2e7",
   "metadata": {
    "ExecuteTime": {
     "end_time": "2024-04-23T19:55:38.068456Z",
     "start_time": "2024-04-23T19:55:38.053389Z"
    }
   },
   "source": [
    "for pID, kVals in enumerate(zip(*TCM_FULL_2TCM_VALS_KVALS)):\n",
    "    tcm_tac = pet_tcms.generate_tac_serial_2tcm_cpet_from_tac(*interp_input, *kVals)\n",
    "    tcm_tac[1] += np.random.normal(loc=0.0, scale=noise_level, size=len(tcm_tac[1]))\n",
    "    np.savetxt(f\"serial_2tcm/gaussian_noise/tac_2tcm_set-{pID:02}.txt\", \n",
    "               fmt='%.6e',\n",
    "               X=tcm_tac.T, \n",
    "               header=f\"Serial 2TCM with {param_writer(kVals)}\\nTimes[minutes] Activity[kBq/ml]\")"
   ],
   "outputs": []
  },
  {
   "cell_type": "code",
   "execution_count": null,
   "id": "c78ac195",
   "metadata": {},
   "source": [],
   "outputs": []
  }
 ],
 "metadata": {
  "kernelspec": {
   "display_name": "Python 3 (ipykernel)",
   "language": "python",
   "name": "python3"
  },
  "language_info": {
   "codemirror_mode": {
    "name": "ipython",
    "version": 3
   },
   "file_extension": ".py",
   "mimetype": "text/x-python",
   "name": "python",
   "nbconvert_exporter": "python",
   "pygments_lexer": "ipython3",
   "version": "3.9.6"
  },
  "toc": {
   "base_numbering": 1,
   "nav_menu": {},
   "number_sections": true,
   "sideBar": true,
   "skip_h1_title": false,
   "title_cell": "Table of Contents",
   "title_sidebar": "Contents",
   "toc_cell": false,
   "toc_position": {
    "height": "calc(100% - 180px)",
    "left": "10px",
    "top": "150px",
    "width": "512px"
   },
   "toc_section_display": true,
   "toc_window_display": true
  }
 },
 "nbformat": 4,
 "nbformat_minor": 5
}
