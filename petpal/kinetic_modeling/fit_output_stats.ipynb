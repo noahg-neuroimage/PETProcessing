{
 "cells": [
  {
   "cell_type": "markdown",
   "metadata": {},
   "source": [
    "Figuring out how to return fitting results as a dataclass with a set of results, rather than just a tuple.\n",
    "\n",
    "Statistics included:\n",
    "- Fit result for each parameter\n",
    "- Fit stderr for each parameter\n",
    "- Residuals\n",
    "- DoF\n",
    "- Chisq\n",
    "- Reduced chisq\n",
    "- AIC\n",
    "- BIC\n",
    "\n",
    "Need to consider how to handle binding names and values of parameters"
   ]
  },
  {
   "cell_type": "code",
   "execution_count": 7,
   "metadata": {},
   "outputs": [],
   "source": [
    "from lmfit import minimize, create_params\n",
    "from lmfit.minimizer import MinimizerResult\n",
    "from dataclasses import dataclass\n",
    "import numpy as np"
   ]
  },
  {
   "cell_type": "code",
   "execution_count": 4,
   "metadata": {},
   "outputs": [],
   "source": [
    "minres = MinimizerResult()"
   ]
  },
  {
   "cell_type": "markdown",
   "metadata": {},
   "source": [
    "MinimizerResult properties:\n",
    "- aic\n",
    "- bic\n",
    "- chisqr\n",
    "- ndata\n",
    "- nfree\n",
    "- nvarys\n",
    "- redchi\n",
    "- residual"
   ]
  },
  {
   "cell_type": "code",
   "execution_count": 8,
   "metadata": {},
   "outputs": [],
   "source": [
    "@dataclass\n",
    "class FitResult:\n",
    "    \"\"\"\n",
    "    A data structure that represents the result of a linear or nonlinear\n",
    "    best fit.\n",
    "    \"\"\"\n",
    "    param_names: list[str]\n",
    "    param_vals: np.ndarray[float]\n",
    "    param_stderr: np.ndarray[float]\n",
    "    param_starts: np.ndarray[float]\n",
    "    param_lower_bounds: np.ndarray[float]\n",
    "    param_upper_bounds: np.ndarray[float]\n",
    "    aic: float\n",
    "    bic: float\n",
    "    chisqr: float\n",
    "    ndata: float\n",
    "    nfree: float\n",
    "    nvarys: float\n",
    "    redchi: float\n",
    "    residual: np.ndarray[float]"
   ]
  },
  {
   "cell_type": "code",
   "execution_count": 9,
   "metadata": {},
   "outputs": [],
   "source": [
    "def aic(ndata,nvarys,chisqr):\n",
    "    return ndata * np.log(chisqr / ndata) + 2 * nvarys"
   ]
  },
  {
   "cell_type": "code",
   "execution_count": 11,
   "metadata": {},
   "outputs": [],
   "source": [
    "def aic_c(ndata,nvarys,chisqr):\n",
    "    aic_cal = aic(ndata=ndata,nvarys=nvarys,chisqr=chisqr)\n",
    "    return aic_cal + 2 * nvarys + (2 * nvarys * (nvarys + 1))/(ndata - nvarys - 1)"
   ]
  },
  {
   "cell_type": "code",
   "execution_count": 12,
   "metadata": {},
   "outputs": [],
   "source": [
    "def bic(ndata,nvarys,chisqr):\n",
    "    return ndata * np.log(chisqr / ndata) + np.log(ndata) * nvarys"
   ]
  },
  {
   "cell_type": "code",
   "execution_count": null,
   "metadata": {},
   "outputs": [],
   "source": []
  }
 ],
 "metadata": {
  "kernelspec": {
   "display_name": "Python 3",
   "language": "python",
   "name": "python3"
  },
  "language_info": {
   "codemirror_mode": {
    "name": "ipython",
    "version": 3
   },
   "file_extension": ".py",
   "mimetype": "text/x-python",
   "name": "python",
   "nbconvert_exporter": "python",
   "pygments_lexer": "ipython3",
   "version": "3.12.9"
  }
 },
 "nbformat": 4,
 "nbformat_minor": 2
}
