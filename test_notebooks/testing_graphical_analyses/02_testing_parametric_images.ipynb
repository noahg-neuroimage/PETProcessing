{
 "cells": [
  {
   "cell_type": "markdown",
   "id": "3fe68861",
   "metadata": {},
   "source": [
    "# Preamble"
   ]
  },
  {
   "cell_type": "code",
   "execution_count": null,
   "id": "initial_id",
   "metadata": {
    "ExecuteTime": {
     "end_time": "2024-03-11T17:43:29.705551Z",
     "start_time": "2024-03-11T17:43:28.477914Z"
    }
   },
   "outputs": [],
   "source": [
    "import numpy as np\n",
    "import numba\n",
    "import matplotlib.pyplot as plt\n",
    "import seaborn as sns\n",
    "import petpal.kinetic_modeling.graphical_analysis as pet_grph\n",
    "import petpal.kinetic_modeling.parametric_images as pet_pim\n",
    "import nibabel\n",
    "import json\n",
    "from importlib import reload\n",
    "\n",
    "sns.set()\n",
    "sns.set_style(\"ticks\")\n",
    "sns.set_context(\"paper\", font_scale=1.6)\n",
    "plt.rcParams['font.family'] ='StixGeneral'\n",
    "plt.rcParams['mathtext.fontset'] = 'stix'"
   ]
  },
  {
   "cell_type": "markdown",
   "id": "2432e591",
   "metadata": {},
   "source": [
    "$$\\require{mchem}$$"
   ]
  },
  {
   "cell_type": "markdown",
   "id": "ff146878",
   "metadata": {},
   "source": [
    "# Loading Data & Resampling Plasma TAC (pTAC)"
   ]
  },
  {
   "cell_type": "markdown",
   "id": "3d65005e",
   "metadata": {},
   "source": [
    "## Loading In A 4D-PET Image"
   ]
  },
  {
   "cell_type": "code",
   "execution_count": null,
   "id": "e9d430bb",
   "metadata": {
    "ExecuteTime": {
     "end_time": "2024-03-05T16:42:03.509549Z",
     "start_time": "2024-03-05T16:42:03.504074Z"
    }
   },
   "outputs": [],
   "source": [
    "DATA_DIR = '../../../../PracticeData/'"
   ]
  },
  {
   "cell_type": "code",
   "execution_count": null,
   "id": "082208b9",
   "metadata": {
    "ExecuteTime": {
     "end_time": "2024-03-05T16:42:03.652237Z",
     "start_time": "2024-03-05T16:42:03.635942Z"
    }
   },
   "outputs": [],
   "source": [
    "pet_img = nibabel.load(f\"{DATA_DIR}/4DPET/1179307_v2_FDG_on_mpr.nii.gz\")"
   ]
  },
  {
   "cell_type": "code",
   "execution_count": null,
   "id": "4e9da505",
   "metadata": {
    "ExecuteTime": {
     "end_time": "2024-02-29T22:01:29.913168Z",
     "start_time": "2024-02-29T22:01:29.903918Z"
    }
   },
   "outputs": [],
   "source": [
    "type(pet_img)"
   ]
  },
  {
   "cell_type": "code",
   "execution_count": null,
   "id": "b27bd7c9",
   "metadata": {
    "ExecuteTime": {
     "end_time": "2024-03-05T16:42:13.486917Z",
     "start_time": "2024-03-05T16:42:05.846187Z"
    }
   },
   "outputs": [],
   "source": [
    "img_vals = pet_img.get_fdata()/37000.\n",
    "xDim, yDim, zDim, tDim = img_vals.shape\n",
    "img_vals.shape"
   ]
  },
  {
   "cell_type": "markdown",
   "id": "099ec488",
   "metadata": {},
   "source": [
    "## Loading Arterial Input Function"
   ]
  },
  {
   "cell_type": "code",
   "execution_count": null,
   "id": "095d66f1",
   "metadata": {
    "ExecuteTime": {
     "end_time": "2024-02-27T16:06:16.182836Z",
     "start_time": "2024-02-27T16:06:16.170054Z"
    }
   },
   "outputs": [],
   "source": [
    "arterial_input_function = np.loadtxt(f\"{DATA_DIR}BloodData_CMS/1179307_v2.csv\", skiprows=1, delimiter=',')\n",
    "\n",
    "aif_tac   = np.array([arterial_input_function[:,1], arterial_input_function[:,-1]], \n",
    "                                   order=\"C\", dtype='float')\n",
    "\n",
    "aif_tac"
   ]
  },
  {
   "cell_type": "markdown",
   "id": "b450990b",
   "metadata": {
    "ExecuteTime": {
     "end_time": "2024-02-27T16:05:17.275013Z",
     "start_time": "2024-02-27T16:05:17.270021Z"
    }
   },
   "source": [
    "### Plotting pTAC"
   ]
  },
  {
   "cell_type": "code",
   "execution_count": null,
   "id": "797483fa",
   "metadata": {
    "ExecuteTime": {
     "end_time": "2024-02-27T16:32:06.835311Z",
     "start_time": "2024-02-27T16:32:06.658983Z"
    },
    "scrolled": false
   },
   "outputs": [],
   "source": [
    "myFig, myAx = plt.subplots(1,2, constrained_layout=True, figsize=[8,4], sharey=True)\n",
    "for anAx in myAx.flatten():\n",
    "    anAx.plot(*aif_tac, '.-', alpha=0.8)\n",
    "    anAx.set(xlabel=r'$t$ (time) [minutes]')\n",
    "myAx[0].set(ylabel=r'pTAC [$\\mathrm{n Ci / ml}$]', title='Linear')\n",
    "myAx[1].set(xscale='log', title='SemiLog-X')\n",
    "\n",
    "plt.show()"
   ]
  },
  {
   "cell_type": "markdown",
   "id": "bdd3dbe2",
   "metadata": {},
   "source": [
    "## Resampling pTAC At Scanner Frame Times"
   ]
  },
  {
   "cell_type": "markdown",
   "id": "45f36416",
   "metadata": {},
   "source": [
    "### Loading In Scanner Frame Times"
   ]
  },
  {
   "cell_type": "code",
   "execution_count": null,
   "id": "fa6465d1",
   "metadata": {
    "ExecuteTime": {
     "end_time": "2024-02-27T16:28:30.600166Z",
     "start_time": "2024-02-27T16:28:30.587616Z"
    }
   },
   "outputs": [],
   "source": [
    "scanner_times = []\n",
    "with open(\"../../../../PracticeData/ScannerFrameTimes_CMS/1179307_v2_info.json\") as dFile:\n",
    "    scanner_times = np.array(json.load(dFile)['FrameReferenceTime'], order='C', dtype=float)/60.\n",
    "scanner_times"
   ]
  },
  {
   "cell_type": "markdown",
   "id": "231ebbcb",
   "metadata": {},
   "source": [
    "### Interpolating pTAC On Scanner Frame Times"
   ]
  },
  {
   "cell_type": "code",
   "execution_count": null,
   "id": "80b5701d",
   "metadata": {
    "ExecuteTime": {
     "end_time": "2024-02-27T16:28:32.071994Z",
     "start_time": "2024-02-27T16:28:32.068034Z"
    }
   },
   "outputs": [],
   "source": [
    "from petpal.input_function.blood_input import BloodInputFunction"
   ]
  },
  {
   "cell_type": "code",
   "execution_count": null,
   "id": "3e0a18a9",
   "metadata": {
    "ExecuteTime": {
     "end_time": "2024-02-27T16:28:32.250939Z",
     "start_time": "2024-02-27T16:28:32.242134Z"
    }
   },
   "outputs": [],
   "source": [
    "scanner_aif = BloodInputFunction(time=aif_tac[0], activity=aif_tac[1], thresh_in_mins=30.0)\n",
    "aif_on_scanner_tac = np.array([scanner_times, scanner_aif.calc_blood_input_function(x=scanner_times)],\n",
    "                           dtype=float, order='C')"
   ]
  },
  {
   "cell_type": "markdown",
   "id": "6c50dfc5",
   "metadata": {},
   "source": [
    "### Plotting Resampled pTAC"
   ]
  },
  {
   "cell_type": "code",
   "execution_count": null,
   "id": "180a424b",
   "metadata": {
    "ExecuteTime": {
     "end_time": "2024-02-27T16:32:33.204148Z",
     "start_time": "2024-02-27T16:32:33.016871Z"
    }
   },
   "outputs": [],
   "source": [
    "myFig, myAx = plt.subplots(1,2, constrained_layout=True, figsize=[8,4], sharey=True)\n",
    "for anAx in myAx.flatten():\n",
    "    anAx.plot(*aif_tac, 'x', alpha=0.8, label='Original', color='black', ms=8)\n",
    "    anAx.plot(*aif_on_scanner_tac, '-', alpha=0.8, label='Resampled', color='red', lw=2)\n",
    "    anAx.set(xlabel=r'$t$ (time) [minutes]')\n",
    "    \n",
    "    \n",
    "\n",
    "myAx[0].set(ylabel=r'pTAC [$\\mathrm{n Ci / ml}$]', title='Linear')\n",
    "myAx[1].set(xscale='log', title='SemiLog-X')\n",
    "myFig.legend(*myAx[0].get_legend_handles_labels(), bbox_to_anchor=(1.0, 0.5), loc='center left')\n",
    "\n",
    "plt.show()"
   ]
  },
  {
   "cell_type": "markdown",
   "id": "06492c5f",
   "metadata": {},
   "source": [
    "### Saving Resampled pTAC To File"
   ]
  },
  {
   "cell_type": "code",
   "execution_count": null,
   "id": "03229c9f",
   "metadata": {
    "ExecuteTime": {
     "end_time": "2024-02-27T16:33:20.903979Z",
     "start_time": "2024-02-27T16:33:20.897221Z"
    }
   },
   "outputs": [],
   "source": [
    "np.savetxt(fname=\"../../../../PracticeData/4DPET/1179307_v2_pTAC_resampled_on_scanner_times.txt\", \n",
    "           X=aif_on_scanner_tac.T,\n",
    "          header='Time (s), Activity (nCu)', fmt='%.6e')"
   ]
  },
  {
   "cell_type": "markdown",
   "id": "447cf671",
   "metadata": {},
   "source": [
    "# Generating Parametric Images: Explicitly Looping Over All Voxels"
   ]
  },
  {
   "cell_type": "markdown",
   "id": "f08f2696",
   "metadata": {},
   "source": [
    "## Reusing `patlak_analysis` from `graphical_analysis`"
   ]
  },
  {
   "cell_type": "code",
   "execution_count": null,
   "id": "c90f9070",
   "metadata": {
    "ExecuteTime": {
     "end_time": "2024-02-27T16:56:21.190600Z",
     "start_time": "2024-02-27T16:56:20.851367Z"
    }
   },
   "outputs": [],
   "source": [
    "@numba.njit()\n",
    "def gen_patlak_parametric_image(pTAC_times: np.ndarray, pTAC_vals: np.ndarray,\n",
    "                                tTAC_img, t_thresh_in_mins: float) -> np.ndarray:\n",
    "    img_dims = tTAC_img.shape\n",
    "    \n",
    "    patlak_ki_img = np.zeros((img_dims[0], img_dims[1], img_dims[2]), float)\n",
    "    patlak_vt_img = np.zeros_like(patlak_ki_img)\n",
    "    \n",
    "    for i in range(0, img_dims[0], 1):\n",
    "        for j in range(0, img_dims[1], 1):\n",
    "            for k in range(0, img_dims[2], 1):\n",
    "                patlak_vals = pet_grph.patlak_analysis(input_tac_values=pTAC_vals, \n",
    "                                                       region_tac_values=tTAC_img[i,j,k,:],\n",
    "                                                       tac_times_in_minutes=pTAC_times,\n",
    "                                                       t_thresh_in_minutes=t_thresh_in_mins)\n",
    "                patlak_ki_img[i,j,k]=patlak_vals[0]\n",
    "                patlak_vt_img[i,j,k]=patlak_vals[1]\n",
    "    return patlak_ki_img, patlak_vt_img\n",
    "\n",
    "tmp_param_imgs = gen_patlak_parametric_image(pTAC_times=aif_on_scanner_tac[0],\n",
    "                                             pTAC_vals=aif_on_scanner_tac[1],\n",
    "                                            tTAC_img=img_vals[xDim//2-10:xDim//2+10, \n",
    "                                                              yDim//2-10:yDim//2+10, \n",
    "                                                              zDim//2-10:zDim//2+10, :],\n",
    "                                            t_thresh_in_mins=30.0)"
   ]
  },
  {
   "cell_type": "code",
   "execution_count": null,
   "id": "a2883f0b",
   "metadata": {
    "ExecuteTime": {
     "end_time": "2024-02-27T20:02:07.017485Z",
     "start_time": "2024-02-27T20:01:40.661448Z"
    }
   },
   "outputs": [],
   "source": [
    "# %%timeit\n",
    "tmp_param_imgs = gen_patlak_parametric_image(pTAC_times=aif_on_scanner_tac[0],\n",
    "                                             pTAC_vals=aif_on_scanner_tac[1],\n",
    "                                            tTAC_img=img_vals,\n",
    "                                            t_thresh_in_mins=30.0)"
   ]
  },
  {
   "cell_type": "code",
   "execution_count": null,
   "id": "48920358",
   "metadata": {
    "ExecuteTime": {
     "end_time": "2024-02-27T16:57:51.689005Z",
     "start_time": "2024-02-27T16:57:51.579515Z"
    }
   },
   "outputs": [],
   "source": [
    "plt.imshow(tmp_param_imgs[0][xDim//2,:,:].T, interpolation='none', origin='lower')\n",
    "plt.show()"
   ]
  },
  {
   "cell_type": "markdown",
   "id": "6d307873",
   "metadata": {},
   "source": [
    "## Testing New Implementation To Take Out Redundant Patlak-X Calculations"
   ]
  },
  {
   "cell_type": "code",
   "execution_count": null,
   "id": "388c9d13",
   "metadata": {
    "ExecuteTime": {
     "end_time": "2024-02-27T17:04:34.722464Z",
     "start_time": "2024-02-27T17:04:34.306798Z"
    }
   },
   "outputs": [],
   "source": [
    "@numba.njit()\n",
    "def gen_patlak_parametric_image_v2(pTAC_times: np.ndarray, pTAC_vals: np.ndarray,\n",
    "                                tTAC_img, t_thresh_in_mins: float) -> np.ndarray:\n",
    "    img_dims = tTAC_img.shape\n",
    "    \n",
    "    patlak_ki_img = np.zeros((img_dims[0], img_dims[1], img_dims[2]), float)\n",
    "    patlak_vt_img = np.zeros_like(patlak_ki_img)\n",
    "    \n",
    "    t_thresh = pet_grph.get_index_from_threshold(times_in_minutes=pTAC_times, \n",
    "                                        t_thresh_in_minutes=t_thresh_in_mins)\n",
    "    \n",
    "    patlak_x = pet_grph.calculate_patlak_x(tac_times=pTAC_times, tac_vals=pTAC_vals)\n",
    "    \n",
    "    inv_pTAC_vals = 1.0/pTAC_vals[:]\n",
    "    \n",
    "    for i in range(0, img_dims[0], 1):\n",
    "        for j in range(0, img_dims[1], 1):\n",
    "            for k in range(0, img_dims[2], 1):\n",
    "                patlak_y = tTAC_img[i,j,k,:]*inv_pTAC_vals[:]\n",
    "                patlak_vals = pet_grph.fit_line_to_data_using_lls(xdata=patlak_x[t_thresh:], \n",
    "                                                                  ydata=patlak_y[t_thresh:])\n",
    "                patlak_ki_img[i,j,k]=patlak_vals[0]\n",
    "                patlak_vt_img[i,j,k]=patlak_vals[1]\n",
    "    return patlak_ki_img, patlak_vt_img\n",
    "\n",
    "tmp_param_imgs = gen_patlak_parametric_image_v2(pTAC_times=aif_on_scanner_tac[0],\n",
    "                                             pTAC_vals=aif_on_scanner_tac[1],\n",
    "                                            tTAC_img=img_vals[xDim//2-10:xDim//2+10, yDim//2-10:yDim//2+10, zDim//2-10:zDim//2+10, :],\n",
    "                                            t_thresh_in_mins=30.0)"
   ]
  },
  {
   "cell_type": "code",
   "execution_count": null,
   "id": "9650e308",
   "metadata": {
    "ExecuteTime": {
     "end_time": "2024-02-27T20:02:25.520084Z",
     "start_time": "2024-02-27T20:02:07.019533Z"
    }
   },
   "outputs": [],
   "source": [
    "# %%timeit\n",
    "tmp_param_imgs_v2 = gen_patlak_parametric_image_v2(pTAC_times=aif_on_scanner_tac[0],\n",
    "                                             pTAC_vals=aif_on_scanner_tac[1],\n",
    "                                            tTAC_img=img_vals,\n",
    "                                            t_thresh_in_mins=30.0)"
   ]
  },
  {
   "cell_type": "code",
   "execution_count": null,
   "id": "e9667dbf",
   "metadata": {
    "ExecuteTime": {
     "end_time": "2024-02-27T20:02:30.196125Z",
     "start_time": "2024-02-27T20:02:29.997802Z"
    }
   },
   "outputs": [],
   "source": [
    "plt.imshow(tmp_param_imgs[0][xDim//2,:,:].T, interpolation='none', origin='lower')\n",
    "plt.show()"
   ]
  },
  {
   "cell_type": "code",
   "execution_count": null,
   "id": "2052b929",
   "metadata": {
    "ExecuteTime": {
     "end_time": "2024-02-27T19:29:43.278991Z",
     "start_time": "2024-02-27T19:29:43.188088Z"
    }
   },
   "outputs": [],
   "source": [
    "np.allclose(tmp_param_imgs[0] - tmp_param_imgs_v2[0], 0.0)"
   ]
  },
  {
   "cell_type": "markdown",
   "id": "b7bda3a0",
   "metadata": {},
   "source": [
    "## Testing The Logan Analysis By Reusing `logan_analysis` from `graphical_analysis`"
   ]
  },
  {
   "cell_type": "code",
   "execution_count": null,
   "id": "931de1e8",
   "metadata": {
    "ExecuteTime": {
     "end_time": "2024-02-27T20:35:02.661956Z",
     "start_time": "2024-02-27T20:35:01.625415Z"
    }
   },
   "outputs": [],
   "source": [
    "from typing import Tuple\n",
    "@numba.njit()\n",
    "def gen_logan_parametric_image(pTAC_times: np.ndarray,\n",
    "                               pTAC_vals: np.ndarray,\n",
    "                               tTAC_img,\n",
    "                               t_thresh_in_mins: float) -> Tuple[np.ndarray, np.ndarray]:\n",
    "    img_dims = tTAC_img.shape\n",
    "    \n",
    "    logan_slope_img = np.zeros((img_dims[0], img_dims[1], img_dims[2]), float)\n",
    "    logan_intercept_img = np.zeros_like(logan_slope_img)\n",
    "    \n",
    "    for i in range(0, img_dims[0], 1):\n",
    "        for j in range(0, img_dims[1], 1):\n",
    "            for k in range(0, img_dims[2], 1):\n",
    "                logan_vals = pet_grph.logan_analysis(tac_times_in_minutes=pTAC_times, input_tac_values=pTAC_vals,\n",
    "                                                     region_tac_values=tTAC_img[i, j, k, :],\n",
    "                                                     t_thresh_in_minutes=t_thresh_in_mins)\n",
    "                logan_slope_img[i, j, k] = logan_vals[0]\n",
    "                logan_intercept_img[i, j, k] = logan_vals[1]\n",
    "    return logan_slope_img, logan_intercept_img\n",
    "\n",
    "\n",
    "tmp_param_imgs = gen_logan_parametric_image(pTAC_times=aif_on_scanner_tac[0], \n",
    "                                            pTAC_vals=aif_on_scanner_tac[1],\n",
    "                                            tTAC_img=img_vals[xDim // 2 - 10:xDim // 2 + 10,\n",
    "                                                              yDim // 2 - 10:yDim // 2 + 10, \n",
    "                                                              zDim // 2 - 10:zDim // 2 + 10, :],\n",
    "                                            t_thresh_in_mins=30.0)"
   ]
  },
  {
   "cell_type": "code",
   "execution_count": null,
   "id": "5e5fcfa8",
   "metadata": {
    "ExecuteTime": {
     "end_time": "2024-02-27T20:54:57.695595Z",
     "start_time": "2024-02-27T20:54:57.520361Z"
    }
   },
   "outputs": [],
   "source": [
    "print(img_vals.max())\n",
    "print(img_vals.min())"
   ]
  },
  {
   "cell_type": "code",
   "execution_count": null,
   "id": "bd96aef5",
   "metadata": {
    "ExecuteTime": {
     "end_time": "2024-02-27T20:38:20.331425Z",
     "start_time": "2024-02-27T20:38:19.872666Z"
    }
   },
   "outputs": [],
   "source": [
    "tmp_param_imgs = gen_logan_parametric_image(pTAC_times=aif_on_scanner_tac[0],\n",
    "                                            pTAC_vals=aif_on_scanner_tac[1],\n",
    "                                            tTAC_img=img_vals,\n",
    "                                            t_thresh_in_mins=30.0)"
   ]
  },
  {
   "cell_type": "markdown",
   "id": "adf24f32",
   "metadata": {},
   "source": [
    "We will have to add some division by 0 checks in the logan analysis to circumvent this problem"
   ]
  },
  {
   "cell_type": "markdown",
   "id": "26c52c7d",
   "metadata": {},
   "source": [
    "## Testing A Template-Like Function"
   ]
  },
  {
   "cell_type": "code",
   "execution_count": null,
   "id": "45ee83a3",
   "metadata": {
    "ExecuteTime": {
     "end_time": "2024-02-27T21:17:08.245723Z",
     "start_time": "2024-02-27T21:17:08.234141Z"
    }
   },
   "outputs": [],
   "source": [
    "from typing import Tuple\n",
    "@numba.njit()\n",
    "def gen_parametric_image_with_graphical_method(pTAC_times: np.ndarray,\n",
    "                                               pTAC_vals: np.ndarray,\n",
    "                                               tTAC_img: np.ndarray,\n",
    "                                               t_thresh_in_mins: float,\n",
    "                                               analysis_func) -> Tuple[np.ndarray, np.ndarray]:\n",
    "    img_dims = tTAC_img.shape\n",
    "    \n",
    "    slope_img = np.zeros((img_dims[0], img_dims[1], img_dims[2]), float)\n",
    "    intercept_img = np.zeros_like(slope_img)\n",
    "    \n",
    "    for i in range(0, img_dims[0], 1):\n",
    "        for j in range(0, img_dims[1], 1):\n",
    "            for k in range(0, img_dims[2], 1):\n",
    "                analysis_vals = analysis_func(input_tac_values=pTAC_vals, \n",
    "                                              region_tac_values=tTAC_img[i, j, k, :],\n",
    "                                              tac_times_in_minutes=pTAC_times,\n",
    "                                              t_thresh_in_minutes=t_thresh_in_mins)\n",
    "                slope_img[i, j, k] = analysis_vals[0]\n",
    "                intercept_img[i, j, k] = analysis_vals[1]\n",
    "    return slope_img, intercept_img"
   ]
  },
  {
   "cell_type": "code",
   "execution_count": null,
   "id": "9df5849d",
   "metadata": {
    "ExecuteTime": {
     "end_time": "2024-02-27T21:17:40.959624Z",
     "start_time": "2024-02-27T21:17:09.565699Z"
    }
   },
   "outputs": [],
   "source": [
    "tmp_patlak_img = gen_parametric_image_with_graphical_method(pTAC_times=aif_on_scanner_tac[0],\n",
    "                                                            pTAC_vals=aif_on_scanner_tac[1],\n",
    "                                                            tTAC_img=img_vals,\n",
    "                                                            t_thresh_in_mins=30.0,\n",
    "                                                            analysis_func=pet_grph.patlak_analysis)"
   ]
  },
  {
   "cell_type": "markdown",
   "id": "847b3ca7",
   "metadata": {},
   "source": [
    "### Plotting A Histogram Of Slope ($K_1$) Values Over The Brain"
   ]
  },
  {
   "cell_type": "code",
   "execution_count": null,
   "id": "20ce49ea",
   "metadata": {
    "ExecuteTime": {
     "end_time": "2024-02-27T21:06:43.362869Z",
     "start_time": "2024-02-27T21:06:43.304525Z"
    }
   },
   "outputs": [],
   "source": [
    "brain_mask = nibabel.load(f\"{DATA_DIR}/4DPET/1179307_v2_mpr_BET_mask.nii.gz\").get_fdata()"
   ]
  },
  {
   "cell_type": "code",
   "execution_count": null,
   "id": "916254d1",
   "metadata": {
    "ExecuteTime": {
     "end_time": "2024-02-27T21:06:51.062600Z",
     "start_time": "2024-02-27T21:06:50.691290Z"
    }
   },
   "outputs": [],
   "source": [
    "plt.hist((tmp_patlak_img[0]*brain_mask).flatten(), density=True, bins=np.linspace(-0.1, 0.2, 25))\n",
    "plt.yscale('log')\n",
    "plt.show()"
   ]
  },
  {
   "cell_type": "markdown",
   "id": "1edfa579",
   "metadata": {},
   "source": [
    "# Comparing Test Implementation With Package Implementation"
   ]
  },
  {
   "cell_type": "code",
   "execution_count": null,
   "id": "0850c6ee",
   "metadata": {
    "ExecuteTime": {
     "end_time": "2024-02-28T16:23:29.527563Z",
     "start_time": "2024-02-28T16:23:02.022830Z"
    }
   },
   "outputs": [],
   "source": [
    "tmp_patlak_img = gen_parametric_image_with_graphical_method(pTAC_times=aif_on_scanner_tac[0],\n",
    "                                                            pTAC_vals=aif_on_scanner_tac[1],\n",
    "                                                            tTAC_img=img_vals,\n",
    "                                                            t_thresh_in_mins=30.0,\n",
    "                                                            analysis_func=pet_grph.patlak_analysis)"
   ]
  },
  {
   "cell_type": "code",
   "execution_count": null,
   "id": "85188ad5",
   "metadata": {
    "ExecuteTime": {
     "end_time": "2024-02-28T16:24:41.651958Z",
     "start_time": "2024-02-28T16:24:16.229128Z"
    }
   },
   "outputs": [],
   "source": [
    "tmp_patlak_img_new = pet_pim.generate_parametric_images_with_graphical_method(pTAC_times=aif_on_scanner_tac[0],\n",
    "                                                            pTAC_vals=aif_on_scanner_tac[1],\n",
    "                                                            tTAC_img=img_vals,\n",
    "                                                            t_thresh_in_mins=30.0,\n",
    "                                                            method_name='patlak')"
   ]
  },
  {
   "cell_type": "code",
   "execution_count": null,
   "id": "e557e5b1",
   "metadata": {
    "ExecuteTime": {
     "end_time": "2024-02-28T16:25:29.779647Z",
     "start_time": "2024-02-28T16:25:29.668817Z"
    }
   },
   "outputs": [],
   "source": [
    "np.allclose(tmp_patlak_img[0] - tmp_patlak_img_new [0], 0.0)"
   ]
  },
  {
   "cell_type": "markdown",
   "id": "f7f56604",
   "metadata": {},
   "source": [
    "# Testing Writing Parametric Images Using The Class"
   ]
  },
  {
   "cell_type": "code",
   "execution_count": null,
   "id": "184ec1b6",
   "metadata": {
    "ExecuteTime": {
     "end_time": "2024-03-12T17:05:30.412224Z",
     "start_time": "2024-03-12T17:05:30.395750Z"
    }
   },
   "outputs": [],
   "source": [
    "from importlib import reload\n",
    "reload(pet_pim)\n",
    "reload(pet_grph)"
   ]
  },
  {
   "cell_type": "code",
   "execution_count": null,
   "id": "3cf2ddf3",
   "metadata": {
    "ExecuteTime": {
     "end_time": "2024-03-01T21:56:05.298962Z",
     "start_time": "2024-03-01T21:56:05.255336Z"
    }
   },
   "outputs": [],
   "source": [
    "patlak_pim = pet_pim.GraphicalAnalysisParametricImage(input_tac_path='../../../../PracticeData/4DPET/1179307_v2_pTAC_resampled_on_scanner_times.txt',\n",
    "                                                     pet4D_img_path='../../../../PracticeData/4DPET/1179307_v2_FDG_on_mpr.nii.gz',\n",
    "                                                     output_directory='../../../../PracticeData/4DPET/',\n",
    "                                                     output_filename_prefix='test')"
   ]
  },
  {
   "cell_type": "code",
   "execution_count": null,
   "id": "6080f061",
   "metadata": {
    "ExecuteTime": {
     "end_time": "2024-03-01T21:56:40.122761Z",
     "start_time": "2024-03-01T21:56:05.410861Z"
    }
   },
   "outputs": [],
   "source": [
    "patlak_pim.run_analysis(method_name='patlak', t_thresh_in_mins=30.0)"
   ]
  },
  {
   "cell_type": "code",
   "execution_count": null,
   "id": "d7d2b75e",
   "metadata": {
    "ExecuteTime": {
     "end_time": "2024-03-01T21:56:43.964905Z",
     "start_time": "2024-03-01T21:56:40.124575Z"
    }
   },
   "outputs": [],
   "source": [
    "patlak_pim.save_parametric_images()\n",
    "patlak_pim.save_analysis_properties()"
   ]
  },
  {
   "cell_type": "markdown",
   "id": "722664a8",
   "metadata": {},
   "source": [
    "# Testing Calculating $R^2$-Values For Simple TACs"
   ]
  },
  {
   "cell_type": "markdown",
   "id": "8aebadfc",
   "metadata": {},
   "source": [
    "## Loading And Plotting"
   ]
  },
  {
   "cell_type": "code",
   "execution_count": null,
   "id": "9e8bb1df",
   "metadata": {
    "ExecuteTime": {
     "end_time": "2024-03-01T18:21:24.293897Z",
     "start_time": "2024-03-01T18:21:24.052886Z"
    }
   },
   "outputs": [],
   "source": [
    "pTAC = pet_pim._safe_load_tac(filename='../../data/tcm_tacs/fdg_plasma_clamp_evenly_resampled.txt')\n",
    "tTAC = pet_pim._safe_load_tac(filename='../../data/tcm_tacs/serial_2tcm_k4zero/gaussian_noise/tac_2tcm_k4zero_set-01.txt')\n",
    "myFig, myAx =plt.subplots(1,2, constrained_layout=True, figsize=[8,4], sharey=True)\n",
    "for anAx in myAx.flatten():\n",
    "    anAx.plot(*pTAC, 'x-', label='pTAC', color='k')\n",
    "    anAx.plot(*tTAC, '.-', label='tTAC')\n",
    "    \n",
    "myAx[0].set(title='Linear', ylabel='Activity [nCi/ml]', xlabel='time [mins]')\n",
    "myAx[1].set(title='Semi-LogX', ylabel='Activity [nCi/ml]', xlabel='time [mins]', xscale='log')\n",
    "myFig.legend(*myAx.flatten()[0].get_legend_handles_labels(), bbox_to_anchor=(1.0,0.5), loc='center left')\n",
    "plt.show()"
   ]
  },
  {
   "cell_type": "code",
   "execution_count": null,
   "id": "49963783",
   "metadata": {
    "ExecuteTime": {
     "end_time": "2024-03-01T18:23:44.054419Z",
     "start_time": "2024-03-01T18:23:43.960984Z"
    }
   },
   "outputs": [],
   "source": [
    "patlak_x = pet_grph.calculate_patlak_x(*pTAC)\n",
    "patlak_y = tTAC[1]/pTAC[1]\n",
    "plt.plot(patlak_x, patlak_y)\n",
    "plt.show()"
   ]
  },
  {
   "cell_type": "markdown",
   "id": "f6d67432",
   "metadata": {},
   "source": [
    "## Calculating The $R^2$-Value"
   ]
  },
  {
   "cell_type": "code",
   "execution_count": null,
   "id": "2ea8a7a8",
   "metadata": {
    "ExecuteTime": {
     "end_time": "2024-03-01T19:03:13.929305Z",
     "start_time": "2024-03-01T19:03:13.920097Z"
    }
   },
   "outputs": [],
   "source": [
    "@numba.njit()\n",
    "def fit_line_to_data_using_lls_with_rsquared(xdata: np.ndarray, ydata: np.ndarray) -> np.ndarray:\n",
    "    make_2d_matrix = pet_grph._line_fitting_make_rhs_matrix_from_xdata\n",
    "    matrix = make_2d_matrix(xdata)\n",
    "    fit_ans = np.linalg.lstsq(matrix, ydata)\n",
    "    \n",
    "    ss_res = fit_ans[1][0]\n",
    "    ss_tot = np.sum((np.mean(ydata)-ydata)**2.)\n",
    "    r_squared = 1.0 - ss_res/ss_tot\n",
    "    return fit_ans[0][0], fit_ans[0][1], r_squared"
   ]
  },
  {
   "cell_type": "code",
   "execution_count": null,
   "id": "3505deec",
   "metadata": {
    "ExecuteTime": {
     "end_time": "2024-03-01T19:03:14.463955Z",
     "start_time": "2024-03-01T19:03:14.278643Z"
    }
   },
   "outputs": [],
   "source": [
    "patlak_x = pet_grph.calculate_patlak_x(*pTAC)\n",
    "fit_line_to_data_using_lls_with_rsquared(xdata=patlak_x[-200:], ydata=tTAC[1][-200:]/pTAC[1][-200:])"
   ]
  },
  {
   "cell_type": "markdown",
   "id": "b05ce9da",
   "metadata": {},
   "source": [
    "## Testing Implementation Of Saving Analysis Properties From TACs"
   ]
  },
  {
   "cell_type": "code",
   "execution_count": null,
   "id": "b18a5140",
   "metadata": {
    "ExecuteTime": {
     "end_time": "2024-03-01T21:55:59.794799Z",
     "start_time": "2024-03-01T21:55:59.776646Z"
    }
   },
   "outputs": [],
   "source": [
    "reload(pet_pim)\n",
    "reload(pet_grph)"
   ]
  },
  {
   "cell_type": "code",
   "execution_count": null,
   "id": "42868a3f",
   "metadata": {
    "ExecuteTime": {
     "end_time": "2024-03-01T21:57:47.582598Z",
     "start_time": "2024-03-01T21:57:47.577676Z"
    }
   },
   "outputs": [],
   "source": [
    "tacs_obj = pet_grph.GraphicalAnalysis(input_tac_path=\"../../data/tcm_tacs/fdg_plasma_clamp_evenly_resampled.txt\",\n",
    "                                     roi_tac_path=\"../../data/tcm_tacs/serial_2tcm_k4zero/gaussian_noise/tac_2tcm_k4zero_set-01.txt\",\n",
    "                                     output_directory=\"../../../../PracticeData/4DPET/\",\n",
    "                                     output_filename_prefix='test')"
   ]
  },
  {
   "cell_type": "code",
   "execution_count": null,
   "id": "ca6a3321",
   "metadata": {
    "ExecuteTime": {
     "end_time": "2024-03-01T21:59:21.604787Z",
     "start_time": "2024-03-01T21:59:21.058428Z"
    }
   },
   "outputs": [],
   "source": [
    "tacs_obj.run_analysis(method_name='logan', t_thresh_in_mins=30.0)"
   ]
  },
  {
   "cell_type": "code",
   "execution_count": null,
   "id": "c41716b5",
   "metadata": {
    "ExecuteTime": {
     "end_time": "2024-03-01T21:59:21.607872Z",
     "start_time": "2024-03-01T21:59:21.606084Z"
    }
   },
   "outputs": [],
   "source": [
    "tacs_obj.save_analysis()"
   ]
  },
  {
   "cell_type": "markdown",
   "id": "184adef4",
   "metadata": {},
   "source": [
    "# Prototyping Fixing Logan Analysis Division By 0"
   ]
  },
  {
   "cell_type": "markdown",
   "id": "318ea5f6",
   "metadata": {},
   "source": [
    "## Re-creating Bug"
   ]
  },
  {
   "cell_type": "code",
   "execution_count": null,
   "id": "2a8e8c81",
   "metadata": {
    "ExecuteTime": {
     "end_time": "2024-03-11T17:43:36.429830Z",
     "start_time": "2024-03-11T17:43:36.414862Z"
    }
   },
   "outputs": [],
   "source": [
    "reload(pet_pim)\n",
    "reload(pet_grph)"
   ]
  },
  {
   "cell_type": "code",
   "execution_count": null,
   "id": "909e4863",
   "metadata": {
    "ExecuteTime": {
     "end_time": "2024-03-11T17:43:43.546376Z",
     "start_time": "2024-03-11T17:43:38.019376Z"
    }
   },
   "outputs": [],
   "source": [
    "pet_img = nibabel.load(f\"../../../../PracticeData/4DPET/1179307_v2_FDG_on_mpr.nii.gz\")\n",
    "img_vals = pet_img.get_fdata()/37000.\n",
    "xDim, yDim, zDim, tDim = img_vals.shape\n",
    "img_vals.shape"
   ]
  },
  {
   "cell_type": "code",
   "execution_count": null,
   "id": "e6453f56",
   "metadata": {
    "ExecuteTime": {
     "end_time": "2024-03-11T17:43:43.550007Z",
     "start_time": "2024-03-11T17:43:43.547635Z"
    }
   },
   "outputs": [],
   "source": [
    "aif_on_scanner = pet_grph._safe_load_tac('../../../../PracticeData/4DPET/1179307_v2_pTAC_resampled_on_scanner_times.txt')"
   ]
  },
  {
   "cell_type": "code",
   "execution_count": null,
   "id": "a34c9fa2",
   "metadata": {
    "ExecuteTime": {
     "end_time": "2024-03-11T17:43:43.552577Z",
     "start_time": "2024-03-11T17:43:43.550869Z"
    }
   },
   "outputs": [],
   "source": [
    "tmp_logan_img_new = pet_pim.GraphicalAnalysisParametricImage(input_tac_path='../../../../PracticeData/4DPET/1179307_v2_pTAC_resampled_on_scanner_times.txt',\n",
    "                                                     pet4D_img_path='../../../../PracticeData/4DPET/1179307_v2_FDG_on_mpr.nii.gz',\n",
    "                                                     output_directory='../../../../PracticeData/4DPET/',\n",
    "                                                     output_filename_prefix='test')"
   ]
  },
  {
   "cell_type": "code",
   "execution_count": null,
   "id": "669e0761",
   "metadata": {
    "ExecuteTime": {
     "end_time": "2024-03-11T16:25:13.716677Z",
     "start_time": "2024-03-11T16:25:04.257444Z"
    }
   },
   "outputs": [],
   "source": [
    "tmp_logan_img_new.run_analysis(method_name='logan', t_thresh_in_mins=40.0)"
   ]
  },
  {
   "cell_type": "markdown",
   "id": "61aa3191",
   "metadata": {},
   "source": [
    "## Finding Voxels That Fail"
   ]
  },
  {
   "cell_type": "code",
   "execution_count": null,
   "id": "0ae9a9ba",
   "metadata": {
    "ExecuteTime": {
     "end_time": "2024-03-11T16:26:09.704220Z",
     "start_time": "2024-03-11T16:26:09.698864Z"
    }
   },
   "outputs": [],
   "source": [
    "img_vals.shape"
   ]
  },
  {
   "cell_type": "code",
   "execution_count": null,
   "id": "21de5e78",
   "metadata": {
    "ExecuteTime": {
     "end_time": "2024-03-11T16:26:52.182745Z",
     "start_time": "2024-03-11T16:26:18.624965Z"
    }
   },
   "outputs": [],
   "source": [
    "step_size = 1\n",
    "img_num_zeros = np.zeros((xDim//step_size, yDim//step_size, zDim//step_size), dtype=float)\n",
    "for i, x_slice in enumerate(img_vals[::step_size]):\n",
    "    for j, y_slice in enumerate(x_slice[::step_size]):\n",
    "        for k, t_tac in enumerate(y_slice[::step_size]):\n",
    "            img_num_zeros[i,j,k] = len(np.argwhere(t_tac==0).T[0])\n",
    "#             print((i*100,j*100,k*100), len(np.argwhere(t_tac==0).T[0]))\n",
    "#             print((i*100,j*100,k*100), np.argwhere(t_tac==0).T)"
   ]
  },
  {
   "cell_type": "code",
   "execution_count": null,
   "id": "f54ed567",
   "metadata": {
    "ExecuteTime": {
     "end_time": "2024-03-11T16:26:52.721985Z",
     "start_time": "2024-03-11T16:26:52.185809Z"
    }
   },
   "outputs": [],
   "source": [
    "myFig, myAx = plt.subplots(1,1, constrained_layout=True, figsize=(5,5))\n",
    "myAx.hist(img_num_zeros.flatten(), density=True, bins=np.linspace(0-1, 52+1, 52))\n",
    "plt.ylabel(r\"$P_n(tTAC=0)$\")\n",
    "plt.xlabel(r\"$n$ (Number Of 0s in tTAC)\")\n",
    "myFig.suptitle(\"tTACs Have Lots Of 0s\\nIn A Bi-Modal Distribution\", ha='center', va='top')\n",
    "plt.show()"
   ]
  },
  {
   "cell_type": "code",
   "execution_count": null,
   "id": "1b1d0af8",
   "metadata": {
    "ExecuteTime": {
     "end_time": "2024-03-11T16:26:53.040170Z",
     "start_time": "2024-03-11T16:26:52.726278Z"
    }
   },
   "outputs": [],
   "source": [
    "myFig, myAx = plt.subplots(1,1, constrained_layout=True, figsize=(5,5))\n",
    "myAx.hist(img_num_zeros.flatten(), density=True, bins=np.linspace(0-1, 52+1, 52), cumulative=True)\n",
    "plt.ylabel(r\"$CDF(P_n(tTAC=0))$\")\n",
    "plt.xlabel(r\"$n$ (Number Of 0s in tTAC)\")\n",
    "myFig.suptitle(\"tTACs Have Lots Of 0s\\nIn A Bi-Modal Distribution\", ha='center', va='top')\n",
    "plt.show()"
   ]
  },
  {
   "cell_type": "markdown",
   "id": "6c93d715",
   "metadata": {},
   "source": [
    "### Getting The Voxles With $\\leq 5$ 0's and $\\geq 40$ 0's"
   ]
  },
  {
   "cell_type": "code",
   "execution_count": null,
   "id": "5fad4fd5",
   "metadata": {
    "ExecuteTime": {
     "end_time": "2024-03-11T16:26:53.197525Z",
     "start_time": "2024-03-11T16:26:53.041529Z"
    }
   },
   "outputs": [],
   "source": [
    "voxel_ids_with_at_most_5_zeros = np.argwhere(img_num_zeros <= 5)\n",
    "voxel_ids_with_at_most_5_zeros = np.argwhere(img_num_zeros <= 5)\n",
    "voxel_ids_with_at_most_5_zeros.shape"
   ]
  },
  {
   "cell_type": "code",
   "execution_count": null,
   "id": "d256cebb",
   "metadata": {
    "ExecuteTime": {
     "end_time": "2024-03-11T16:26:53.577958Z",
     "start_time": "2024-03-11T16:26:53.198263Z"
    }
   },
   "outputs": [],
   "source": [
    "for an_id in voxel_ids_with_at_most_5_zeros[::1000000//2]:\n",
    "    plt.plot(pet_grph.cumulative_trapezoidal_integral(xdata=aif_on_scanner[0], ydata=img_vals[an_id[0],an_id[1],an_id[2]]),\n",
    "            '.-')\n",
    "plt.yscale('log')\n",
    "plt.show()"
   ]
  },
  {
   "cell_type": "code",
   "execution_count": null,
   "id": "1e256742",
   "metadata": {
    "ExecuteTime": {
     "end_time": "2024-03-11T16:26:53.641561Z",
     "start_time": "2024-03-11T16:26:53.578889Z"
    }
   },
   "outputs": [],
   "source": [
    "voxel_ids_with_at_least_40_zeros = np.argwhere(img_num_zeros >= 40)\n",
    "voxel_ids_with_at_least_40_zeros = np.argwhere(img_num_zeros >= 40)\n",
    "voxel_ids_with_at_least_40_zeros.shape"
   ]
  },
  {
   "cell_type": "code",
   "execution_count": null,
   "id": "24cd5d78",
   "metadata": {
    "ExecuteTime": {
     "end_time": "2024-03-11T16:26:53.753018Z",
     "start_time": "2024-03-11T16:26:53.642358Z"
    }
   },
   "outputs": [],
   "source": [
    "for an_id in voxel_ids_with_at_least_40_zeros[::1000000//10]:\n",
    "    plt.plot(pet_grph.cumulative_trapezoidal_integral(xdata=aif_on_scanner[0], ydata=img_vals[an_id[0],an_id[1],an_id[2]]),\n",
    "            '.-')\n",
    "plt.yscale('log')\n",
    "plt.show()"
   ]
  },
  {
   "cell_type": "markdown",
   "id": "2bac33d5",
   "metadata": {},
   "source": [
    "## Plotting The Logan $X$ And $Y$ For Bad TACs"
   ]
  },
  {
   "cell_type": "markdown",
   "id": "f56ca382",
   "metadata": {},
   "source": [
    "### With At Most 5 0's"
   ]
  },
  {
   "cell_type": "markdown",
   "id": "be6abe98",
   "metadata": {
    "ExecuteTime": {
     "end_time": "2024-03-05T17:37:58.325398Z",
     "start_time": "2024-03-05T17:37:58.320151Z"
    }
   },
   "source": [
    "#### Not-Dividing By $R(t)$ (Plotting $R(t)\\cdot X$ and $R(t)\\cdot Y$)"
   ]
  },
  {
   "cell_type": "code",
   "execution_count": null,
   "id": "deb4c037",
   "metadata": {
    "ExecuteTime": {
     "end_time": "2024-03-11T16:26:56.127828Z",
     "start_time": "2024-03-11T16:26:55.905289Z"
    }
   },
   "outputs": [],
   "source": [
    "for an_id in voxel_ids_with_at_most_5_zeros[::1000000//2]:\n",
    "    t_tac = img_vals[an_id[0], an_id[1], an_id[2]]\n",
    "    logan_x = pet_grph.cumulative_trapezoidal_integral(xdata=aif_on_scanner[0], ydata=aif_on_scanner[1])\n",
    "    logan_y = pet_grph.cumulative_trapezoidal_integral(xdata=aif_on_scanner[0], ydata=t_tac)\n",
    "\n",
    "    plt.plot(logan_x, logan_y, '.-')\n",
    "\n",
    "plt.yscale('log')\n",
    "\n",
    "plt.ylabel(r\"$\\int_{0}^{t}R(s)\\mathrm{d}s$\")\n",
    "plt.xlabel(r\"$\\int_{0}^{t}C(s)\\mathrm{d}s$\")\n",
    "plt.show()"
   ]
  },
  {
   "cell_type": "markdown",
   "id": "b0a0d4b2",
   "metadata": {},
   "source": [
    "#### Plotting True Logan $X$ and $Y$"
   ]
  },
  {
   "cell_type": "code",
   "execution_count": null,
   "id": "c5606de6",
   "metadata": {
    "ExecuteTime": {
     "end_time": "2024-03-11T16:26:57.621776Z",
     "start_time": "2024-03-11T16:26:57.499863Z"
    }
   },
   "outputs": [],
   "source": [
    "for an_id in voxel_ids_with_at_most_5_zeros[::1000000//2]:\n",
    "    t_tac = img_vals[an_id[0], an_id[1], an_id[2]]\n",
    "    logan_x = pet_grph.cumulative_trapezoidal_integral(xdata=aif_on_scanner[0], ydata=aif_on_scanner[1])\n",
    "    logan_y = pet_grph.cumulative_trapezoidal_integral(xdata=aif_on_scanner[0], ydata=t_tac)\n",
    "\n",
    "    logan_x /= t_tac\n",
    "    logan_y /= t_tac\n",
    "    \n",
    "    plt.plot(logan_x, logan_y, '.')\n",
    "\n",
    "# plt.yscale('log')\n",
    "plt.ylim(0,200)\n",
    "plt.xlim(0,1000)\n",
    "plt.ylabel(r\"$\\frac{\\int_{0}^{t}R(s)\\mathrm{d}s}{R(t)}$\", fontsize=24)\n",
    "plt.xlabel(r\"$\\frac{\\int_{0}^{t}C(s)\\mathrm{d}s}{R(t)}$\", fontsize=24)\n",
    "plt.show()"
   ]
  },
  {
   "cell_type": "code",
   "execution_count": null,
   "id": "f9e3bc1b",
   "metadata": {},
   "outputs": [],
   "source": []
  },
  {
   "cell_type": "markdown",
   "id": "f2ec124d",
   "metadata": {},
   "source": [
    "### With At Least 40 0's"
   ]
  },
  {
   "cell_type": "markdown",
   "id": "d20c5eae",
   "metadata": {
    "ExecuteTime": {
     "end_time": "2024-03-05T17:37:58.325398Z",
     "start_time": "2024-03-05T17:37:58.320151Z"
    }
   },
   "source": [
    "#### Not-Dividing By $R(t)$ (Plotting $R(t)\\cdot X$ and $R(t)\\cdot Y$)"
   ]
  },
  {
   "cell_type": "code",
   "execution_count": null,
   "id": "4d2e4f2f",
   "metadata": {
    "ExecuteTime": {
     "end_time": "2024-03-11T16:27:01.222687Z",
     "start_time": "2024-03-11T16:27:01.058070Z"
    }
   },
   "outputs": [],
   "source": [
    "for an_id in voxel_ids_with_at_least_40_zeros[::1000000//10]:\n",
    "    t_tac = img_vals[an_id[0], an_id[1], an_id[2]]\n",
    "    logan_x = pet_grph.cumulative_trapezoidal_integral(xdata=aif_on_scanner[0], ydata=aif_on_scanner[1])\n",
    "    logan_y = pet_grph.cumulative_trapezoidal_integral(xdata=aif_on_scanner[0], ydata=t_tac)\n",
    "\n",
    "    plt.plot(logan_x, logan_y, '.-')\n",
    "\n",
    "plt.yscale('log')\n",
    "\n",
    "plt.ylabel(r\"$\\int_{0}^{t}R(s)\\mathrm{d}s$\")\n",
    "plt.xlabel(r\"$\\int_{0}^{t}C(s)\\mathrm{d}s$\")\n",
    "plt.show()"
   ]
  },
  {
   "cell_type": "markdown",
   "id": "d2179e66",
   "metadata": {},
   "source": [
    "#### Plotting True Logan $X$ and $Y$"
   ]
  },
  {
   "cell_type": "code",
   "execution_count": null,
   "id": "fbe00b04",
   "metadata": {
    "ExecuteTime": {
     "end_time": "2024-03-11T16:27:02.541938Z",
     "start_time": "2024-03-11T16:27:02.395649Z"
    }
   },
   "outputs": [],
   "source": [
    "for an_id in voxel_ids_with_at_most_5_zeros[::1000000//10]:\n",
    "    t_tac = img_vals[an_id[0], an_id[1], an_id[2]]\n",
    "    logan_x = pet_grph.cumulative_trapezoidal_integral(xdata=aif_on_scanner[0], ydata=aif_on_scanner[1])\n",
    "    logan_y = pet_grph.cumulative_trapezoidal_integral(xdata=aif_on_scanner[0], ydata=t_tac)\n",
    "\n",
    "    logan_x /= t_tac\n",
    "    logan_y /= t_tac\n",
    "    \n",
    "    plt.plot(logan_x, logan_y, '.-', mec='k', alpha=0.8)\n",
    "\n",
    "# plt.yscale('log')\n",
    "plt.ylim(0,200)\n",
    "plt.xlim(0,1000)\n",
    "plt.ylabel(r\"$\\frac{\\int_{0}^{t}R(s)\\mathrm{d}s}{R(t)}$\", fontsize=24)\n",
    "plt.xlabel(r\"$\\frac{\\int_{0}^{t}C(s)\\mathrm{d}s}{R(t)}$\", fontsize=24)\n",
    "plt.show()"
   ]
  },
  {
   "cell_type": "markdown",
   "id": "f3df7c38",
   "metadata": {},
   "source": [
    "## Simply Ignoring The 0s For Calculations"
   ]
  },
  {
   "cell_type": "markdown",
   "id": "f6ac30a7",
   "metadata": {},
   "source": [
    "### With At Most 5 0's"
   ]
  },
  {
   "cell_type": "markdown",
   "id": "3582531b",
   "metadata": {},
   "source": [
    "#### Not-Dividing By $R(t)$ (Plotting $R(t)\\cdot X$ and $R(t)\\cdot Y$)"
   ]
  },
  {
   "cell_type": "code",
   "execution_count": null,
   "id": "d1481020",
   "metadata": {
    "ExecuteTime": {
     "end_time": "2024-03-11T16:28:51.240511Z",
     "start_time": "2024-03-11T16:28:51.020763Z"
    }
   },
   "outputs": [],
   "source": [
    "for an_id in voxel_ids_with_at_most_5_zeros[::1000000//2]:\n",
    "    t_tac = img_vals[an_id[0], an_id[1], an_id[2]]\n",
    "    logan_x = pet_grph.cumulative_trapezoidal_integral(xdata=aif_on_scanner[0], ydata=aif_on_scanner[1])\n",
    "    logan_y = pet_grph.cumulative_trapezoidal_integral(xdata=aif_on_scanner[0], ydata=t_tac)\n",
    "    \n",
    "    good_points = np.argwhere(t_tac != 0.).T[0]\n",
    "    \n",
    "    \n",
    "    plt.plot(logan_x[good_points], logan_y[good_points], '.-')\n",
    "\n",
    "plt.yscale('log')\n",
    "\n",
    "plt.ylabel(r\"$\\int_{0}^{t}R(s)\\mathrm{d}s$\")\n",
    "plt.xlabel(r\"$\\int_{0}^{t}C(s)\\mathrm{d}s$\")\n",
    "plt.show()"
   ]
  },
  {
   "cell_type": "markdown",
   "id": "36775997",
   "metadata": {
    "ExecuteTime": {
     "end_time": "2024-03-05T17:52:06.735903Z",
     "start_time": "2024-03-05T17:52:06.728001Z"
    }
   },
   "source": [
    "#### True Logan Plots"
   ]
  },
  {
   "cell_type": "code",
   "execution_count": null,
   "id": "d5fc9232",
   "metadata": {
    "ExecuteTime": {
     "end_time": "2024-03-11T16:29:13.155795Z",
     "start_time": "2024-03-11T16:29:12.867656Z"
    }
   },
   "outputs": [],
   "source": [
    "for an_id in voxel_ids_with_at_most_5_zeros[::1000000//2]:\n",
    "    t_tac = img_vals[an_id[0], an_id[1], an_id[2]]\n",
    "    logan_x = pet_grph.cumulative_trapezoidal_integral(xdata=aif_on_scanner[0], ydata=aif_on_scanner[1])\n",
    "    logan_y = pet_grph.cumulative_trapezoidal_integral(xdata=aif_on_scanner[0], ydata=t_tac)\n",
    "    \n",
    "    good_points = np.argwhere(t_tac != 0.).T[0]\n",
    "    print(good_points)\n",
    "    logan_x = logan_x[good_points] / t_tac[good_points]\n",
    "    logan_y = logan_y[good_points] / t_tac[good_points]\n",
    "    \n",
    "    plt.plot(logan_x, logan_y, '.', alpha=0.8)\n",
    "\n",
    "plt.yscale('log')\n",
    "plt.xscale('log')\n",
    "# plt.ylim(0,200)\n",
    "# plt.xlim(0,1000)\n",
    "plt.ylabel(r\"$\\frac{\\int_{0}^{t}R(s)\\mathrm{d}s}{R(t)}$\", fontsize=24)\n",
    "plt.xlabel(r\"$\\frac{\\int_{0}^{t}C(s)\\mathrm{d}s}{R(t)}$\", fontsize=24)\n",
    "plt.show()"
   ]
  },
  {
   "cell_type": "markdown",
   "id": "d27a3753",
   "metadata": {},
   "source": [
    "### With At Least 40 0's"
   ]
  },
  {
   "cell_type": "markdown",
   "id": "3f87179c",
   "metadata": {},
   "source": [
    "#### Just The Cumulative Integrals"
   ]
  },
  {
   "cell_type": "code",
   "execution_count": null,
   "id": "7e85c555",
   "metadata": {
    "ExecuteTime": {
     "end_time": "2024-03-11T16:29:14.962095Z",
     "start_time": "2024-03-11T16:29:14.798364Z"
    }
   },
   "outputs": [],
   "source": [
    "for an_id in voxel_ids_with_at_least_40_zeros[::1000000//10]:\n",
    "    t_tac = img_vals[an_id[0], an_id[1], an_id[2]]\n",
    "    logan_x = pet_grph.cumulative_trapezoidal_integral(xdata=aif_on_scanner[0], ydata=aif_on_scanner[1])\n",
    "    logan_y = pet_grph.cumulative_trapezoidal_integral(xdata=aif_on_scanner[0], ydata=t_tac)\n",
    "\n",
    "    good_points = np.argwhere(t_tac != 0.).T[0]\n",
    "    \n",
    "    \n",
    "    plt.plot(logan_x[good_points], logan_y[good_points], '.-')\n",
    "\n",
    "plt.yscale('log')\n",
    "\n",
    "plt.ylabel(r\"$\\int_{0}^{t}R(s)\\mathrm{d}s$\")\n",
    "plt.xlabel(r\"$\\int_{0}^{t}C(s)\\mathrm{d}s$\")\n",
    "plt.show()"
   ]
  },
  {
   "cell_type": "code",
   "execution_count": null,
   "id": "98f24412",
   "metadata": {},
   "outputs": [],
   "source": []
  },
  {
   "cell_type": "markdown",
   "id": "b2845e24",
   "metadata": {
    "ExecuteTime": {
     "end_time": "2024-03-05T17:56:42.437791Z",
     "start_time": "2024-03-05T17:56:42.434788Z"
    }
   },
   "source": [
    "#### True Logan Plots"
   ]
  },
  {
   "cell_type": "code",
   "execution_count": null,
   "id": "8ea35115",
   "metadata": {
    "ExecuteTime": {
     "end_time": "2024-03-11T16:29:16.443808Z",
     "start_time": "2024-03-11T16:29:16.149548Z"
    }
   },
   "outputs": [],
   "source": [
    "for an_id in voxel_ids_with_at_least_40_zeros[::1000000//10]:\n",
    "    t_tac = img_vals[an_id[0], an_id[1], an_id[2]]\n",
    "    logan_x = pet_grph.cumulative_trapezoidal_integral(xdata=aif_on_scanner[0], ydata=aif_on_scanner[1])\n",
    "    logan_y = pet_grph.cumulative_trapezoidal_integral(xdata=aif_on_scanner[0], ydata=t_tac)\n",
    "\n",
    "    good_points = np.argwhere(t_tac != 0.).T[0]\n",
    "    print(good_points)\n",
    "    logan_x = logan_x[good_points] / t_tac[good_points]\n",
    "    logan_y = logan_y[good_points] / t_tac[good_points]\n",
    "    \n",
    "    plt.plot(logan_x, logan_y, '.-', mec='k', alpha=0.8)\n",
    "\n",
    "plt.yscale('log')\n",
    "plt.xscale('log')\n",
    "# plt.ylim(0,200)\n",
    "# plt.xlim(0,1000)\n",
    "plt.ylabel(r\"$\\frac{\\int_{0}^{t}R(s)\\mathrm{d}s}{R(t)}$\", fontsize=24)\n",
    "plt.xlabel(r\"$\\frac{\\int_{0}^{t}C(s)\\mathrm{d}s}{R(t)}$\", fontsize=24)\n",
    "plt.show()"
   ]
  },
  {
   "cell_type": "markdown",
   "id": "c268f180",
   "metadata": {},
   "source": [
    "## Combining `good_points` With A `t_thresh` Calculation For Full Logan Analysis"
   ]
  },
  {
   "cell_type": "markdown",
   "id": "0c383f7e",
   "metadata": {},
   "source": [
    "### TACs With Less Than 5 Zeroes"
   ]
  },
  {
   "cell_type": "code",
   "execution_count": null,
   "id": "6b948219",
   "metadata": {
    "ExecuteTime": {
     "end_time": "2024-03-11T17:07:50.964240Z",
     "start_time": "2024-03-11T17:07:50.698876Z"
    }
   },
   "outputs": [],
   "source": [
    "myFig, myAx = plt.subplots(1, 1, figsize=[5,5], constrained_layout=True)\n",
    "for an_id in voxel_ids_with_at_most_5_zeros[::1000000//2]:\n",
    "    t_tac = img_vals[an_id[0], an_id[1], an_id[2]]\n",
    "    good_points = np.argwhere(t_tac != 0.).T[0]\n",
    "#     print(f\"Len GP:= {len(good_points)}\")\n",
    "    if len(good_points) <= 2:\n",
    "        slope, intercept = np.nan, np.nan\n",
    "    else:\n",
    "        t_thresh = pet_grph.get_index_from_threshold(times_in_minutes=aif_on_scanner[0][good_points], \n",
    "                                                    t_thresh_in_minutes=40.0)\n",
    "#         print(f\"Len TH:= {len(t_tac[good_points][t_thresh:])}\")\n",
    "        if len(t_tac[good_points][t_thresh:]) <= 2:\n",
    "            slope, intercept = np.nan, np.nan\n",
    "        else:\n",
    "#             print(\"Enough points\")\n",
    "            logan_x = pet_grph.cumulative_trapezoidal_integral(xdata=aif_on_scanner[0], \n",
    "                                                               ydata=aif_on_scanner[1])\n",
    "            logan_y = pet_grph.cumulative_trapezoidal_integral(xdata=aif_on_scanner[0], \n",
    "                                                               ydata=t_tac)\n",
    "\n",
    "            logan_x = logan_x[good_points][t_thresh:] / t_tac[good_points][t_thresh:]\n",
    "            logan_y = logan_y[good_points][t_thresh:] / t_tac[good_points][t_thresh:]\n",
    "\n",
    "            fit_ans = pet_grph.fit_line_to_data_using_lls(xdata=logan_x, ydata=logan_y)\n",
    "            slope, intercept = fit_ans[0], fit_ans[1]\n",
    "\n",
    "            plt.plot(logan_x, logan_y, '.-', alpha=0.8, label=f'm={slope:>5.2e}; b={intercept:>5.2e}')\n",
    "\n",
    "plt.yscale('log')\n",
    "plt.xscale('log')\n",
    "# plt.ylim(1e-1,1e8)\n",
    "# plt.xlim(1e-1,1e8)\n",
    "plt.ylabel(r\"$\\frac{\\int_{0}^{t}R(s)\\mathrm{d}s}{R(t)}$\", fontsize=24)\n",
    "plt.xlabel(r\"$\\frac{\\int_{0}^{t}C(s)\\mathrm{d}s}{R(t)}$\", fontsize=24)\n",
    "myFig.legend(bbox_to_anchor=(1.0, 0.5), loc='center left')\n",
    "plt.show()"
   ]
  },
  {
   "cell_type": "markdown",
   "id": "d64144f1",
   "metadata": {},
   "source": [
    "### TACs With More Than 40 Zeroes"
   ]
  },
  {
   "cell_type": "code",
   "execution_count": null,
   "id": "0e8c76a7",
   "metadata": {
    "ExecuteTime": {
     "end_time": "2024-03-11T17:07:37.775061Z",
     "start_time": "2024-03-11T17:07:37.490817Z"
    }
   },
   "outputs": [],
   "source": [
    "myFig, myAx = plt.subplots(1, 1, figsize=[5,5], constrained_layout=True)\n",
    "for an_id in voxel_ids_with_at_least_40_zeros[::100000//2]:\n",
    "    t_tac = img_vals[an_id[0], an_id[1], an_id[2]]\n",
    "    good_points = np.argwhere(t_tac != 0.).T[0]\n",
    "#     print(f\"Len GP:= {len(good_points)}\")\n",
    "    if len(good_points) <= 2:\n",
    "        slope, intercept = np.nan, np.nan\n",
    "    else:\n",
    "        t_thresh = pet_grph.get_index_from_threshold(times_in_minutes=aif_on_scanner[0][good_points], \n",
    "                                                    t_thresh_in_minutes=40.0)\n",
    "#         print(f\"Len TH:= {len(t_tac[good_points][t_thresh:])}\")\n",
    "        if len(t_tac[good_points][t_thresh:]) <= 2:\n",
    "            slope, intercept = np.nan, np.nan\n",
    "        else:\n",
    "#             print(\"Enough points\")\n",
    "            logan_x = pet_grph.cumulative_trapezoidal_integral(xdata=aif_on_scanner[0], \n",
    "                                                               ydata=aif_on_scanner[1])\n",
    "            logan_y = pet_grph.cumulative_trapezoidal_integral(xdata=aif_on_scanner[0], \n",
    "                                                               ydata=t_tac)\n",
    "\n",
    "            logan_x = logan_x[good_points][t_thresh:] / t_tac[good_points][t_thresh:]\n",
    "            logan_y = logan_y[good_points][t_thresh:] / t_tac[good_points][t_thresh:]\n",
    "\n",
    "            fit_ans = pet_grph.fit_line_to_data_using_lls(xdata=logan_x, ydata=logan_y)\n",
    "            slope, intercept = fit_ans[0], fit_ans[1]\n",
    "\n",
    "            plt.plot(logan_x, logan_y, '.-', alpha=0.8, label=f'm={slope:>5.2e}; b={intercept:>5.2e}')\n",
    "\n",
    "plt.yscale('log')\n",
    "plt.xscale('log')\n",
    "# plt.ylim(1e-1,1e8)\n",
    "# plt.xlim(1e-1,1e8)\n",
    "plt.ylabel(r\"$\\frac{\\int_{0}^{t}R(s)\\mathrm{d}s}{R(t)}$\", fontsize=24)\n",
    "plt.xlabel(r\"$\\frac{\\int_{0}^{t}C(s)\\mathrm{d}s}{R(t)}$\", fontsize=24)\n",
    "myFig.legend(bbox_to_anchor=(1.0, 0.5), loc='center left')\n",
    "plt.show()"
   ]
  },
  {
   "cell_type": "markdown",
   "id": "c6c73881",
   "metadata": {
    "ExecuteTime": {
     "end_time": "2024-03-11T17:17:39.099973Z",
     "start_time": "2024-03-11T17:17:39.092320Z"
    }
   },
   "source": [
    "## Combining To Make A New Function That Iterates Over All Voxels To Generate A Slope Image And An Intercept Image"
   ]
  },
  {
   "cell_type": "code",
   "execution_count": null,
   "id": "7e9e210d",
   "metadata": {
    "ExecuteTime": {
     "end_time": "2024-03-11T21:45:15.381047Z",
     "start_time": "2024-03-11T21:45:15.361757Z"
    }
   },
   "outputs": [],
   "source": [
    "from typing import Tuple\n",
    "import numba\n",
    "@numba.njit\n",
    "def smart_logan_analysis(input_tac_values: np.ndarray,\n",
    "                         region_tac_values: np.ndarray,\n",
    "                         tac_times_in_minutes: np.ndarray,\n",
    "                         t_thresh_in_minutes: float) -> np.ndarray:\n",
    "    \n",
    "    good_points = np.argwhere(region_tac_values != 0.).T[0]\n",
    "    if len(good_points) <= 2:\n",
    "        return np.asarray([np.nan, np.nan])\n",
    "    else:\n",
    "        t_thresh = pet_grph.get_index_from_threshold(times_in_minutes=tac_times_in_minutes[good_points], \n",
    "                                                     t_thresh_in_minutes=t_thresh_in_minutes)\n",
    "        if len(tac_times_in_minutes[good_points][t_thresh:]) <= 2:\n",
    "            return np.asarray([np.nan, np.nan])\n",
    "        else:\n",
    "            logan_x = pet_grph.cumulative_trapezoidal_integral(xdata=tac_times_in_minutes, \n",
    "                                                               ydata=input_tac_values)\n",
    "            logan_y = pet_grph.cumulative_trapezoidal_integral(xdata=tac_times_in_minutes, \n",
    "                                                               ydata=region_tac_values)\n",
    "\n",
    "            logan_x = logan_x[good_points][t_thresh:] / region_tac_values[good_points][t_thresh:]\n",
    "            logan_y = logan_y[good_points][t_thresh:] / region_tac_values[good_points][t_thresh:]\n",
    "\n",
    "            fit_ans = pet_grph.fit_line_to_data_using_lls(xdata=logan_x, ydata=logan_y)\n",
    "            return fit_ans\n",
    "        \n",
    "@numba.njit()\n",
    "def smart_alt_logan_analysis(input_tac_values: np.ndarray,\n",
    "                         region_tac_values: np.ndarray,\n",
    "                         tac_times_in_minutes: np.ndarray,\n",
    "                         t_thresh_in_minutes: float) -> np.ndarray:\n",
    "    \n",
    "    good_points = np.argwhere(region_tac_values != 0.).T[0]\n",
    "    if len(good_points) <= 2:\n",
    "        return np.asarray([np.nan, np.nan])\n",
    "    else:\n",
    "        t_thresh = pet_grph.get_index_from_threshold(times_in_minutes=tac_times_in_minutes[good_points], \n",
    "                                                     t_thresh_in_minutes=t_thresh_in_minutes)\n",
    "        if len(tac_times_in_minutes[good_points][t_thresh:]) <= 2:\n",
    "            return np.asarray([np.nan, np.nan])\n",
    "        else:\n",
    "            logan_x = pet_grph.cumulative_trapezoidal_integral(xdata=tac_times_in_minutes, \n",
    "                                                               ydata=input_tac_values)\n",
    "            logan_y = pet_grph.cumulative_trapezoidal_integral(xdata=tac_times_in_minutes, \n",
    "                                                               ydata=region_tac_values)\n",
    "\n",
    "            logan_x = logan_x[good_points][t_thresh:] / input_tac_values[good_points][t_thresh:]\n",
    "            logan_y = logan_y[good_points][t_thresh:] / region_tac_values[good_points][t_thresh:]\n",
    "\n",
    "            fit_ans = pet_grph.fit_line_to_data_using_lls(xdata=logan_x, ydata=logan_y)\n",
    "            return fit_ans"
   ]
  },
  {
   "cell_type": "code",
   "execution_count": null,
   "id": "8bbac104",
   "metadata": {
    "ExecuteTime": {
     "end_time": "2024-03-11T22:19:28.541029Z",
     "start_time": "2024-03-11T22:19:03.049716Z"
    }
   },
   "outputs": [],
   "source": [
    "param_images = pet_pim.apply_linearized_analysis_to_all_voxels(pTAC_times=aif_on_scanner[0],\n",
    "                                                               pTAC_vals=aif_on_scanner[1],\n",
    "                                                               tTAC_img=img_vals,\n",
    "                                                               t_thresh_in_mins=30.0,\n",
    "                                                               analysis_func=pet_grph.patlak_analysis)"
   ]
  },
  {
   "cell_type": "code",
   "execution_count": null,
   "id": "88747491",
   "metadata": {
    "ExecuteTime": {
     "end_time": "2024-03-11T21:53:16.086721Z",
     "start_time": "2024-03-11T21:53:15.744981Z"
    }
   },
   "outputs": [],
   "source": [
    "dumI0, dumJ0, dumK0 = np.argwhere(np.isfinite(param_images[0])).T\n",
    "dumI1, dumJ1, dumK1 = np.argwhere(np.isfinite(param_images[1])).T"
   ]
  },
  {
   "cell_type": "code",
   "execution_count": null,
   "id": "7776bab8",
   "metadata": {
    "ExecuteTime": {
     "end_time": "2024-03-11T21:53:16.320605Z",
     "start_time": "2024-03-11T21:53:16.087999Z"
    }
   },
   "outputs": [],
   "source": [
    "print(np.max(param_images[0][dumI0, dumJ0, dumK0]), np.min(param_images[0][dumI0, dumJ0, dumK0]))\n",
    "print(np.max(param_images[1][dumI1, dumJ1, dumK1]), np.min(param_images[1][dumI1, dumJ1, dumK1]))"
   ]
  },
  {
   "cell_type": "code",
   "execution_count": null,
   "id": "169e32d1",
   "metadata": {
    "ExecuteTime": {
     "end_time": "2024-03-11T21:53:55.292214Z",
     "start_time": "2024-03-11T21:53:54.717846Z"
    }
   },
   "outputs": [],
   "source": [
    "myFig, myAx = plt.subplots(3,3, sharex=True, sharey=True, constrained_layout=True, dpi=150)\n",
    "for axID, anAx in enumerate(myAx.flatten()):\n",
    "    cBar = anAx.imshow(param_images[0][xDim//2-5*5 + 5*axID, :, :].T, interpolation='none', origin='lower',\n",
    "               vmin=-0.15/4, vmax=0.15/4, cmap='bwr')\n",
    "cAx = plt.colorbar(cBar, ax=myAx)\n",
    "cAx.set_label(\"Logan Slope\", rotation=270)\n",
    "plt.show()"
   ]
  },
  {
   "cell_type": "code",
   "execution_count": null,
   "id": "8efa1ebc",
   "metadata": {
    "ExecuteTime": {
     "end_time": "2024-03-11T21:54:38.127383Z",
     "start_time": "2024-03-11T21:54:37.424538Z"
    }
   },
   "outputs": [],
   "source": [
    "myFig, myAx = plt.subplots(3,3, sharex=True, sharey=True, constrained_layout=True, dpi=150)\n",
    "for axID, anAx in enumerate(myAx.flatten()):\n",
    "    cBar = anAx.imshow(param_images[1][xDim//2-5*5 + 5*axID, :, :].T, \n",
    "                       interpolation='none', origin='lower',\n",
    "                       vmin=-6.62/4, vmax=6.62/4, cmap='bwr')\n",
    "cAx = plt.colorbar(cBar, ax=myAx)\n",
    "cAx.set_label(\"Logan Intercept\",\n",
    "              rotation=270)\n",
    "plt.show()"
   ]
  },
  {
   "cell_type": "markdown",
   "id": "a1c159d5",
   "metadata": {},
   "source": [
    "## Testing Package Implementation To Make Logan Parametric Images"
   ]
  },
  {
   "cell_type": "markdown",
   "id": "83f004df",
   "metadata": {},
   "source": [
    "### Patlak Image"
   ]
  },
  {
   "cell_type": "code",
   "execution_count": null,
   "id": "34dba4bb",
   "metadata": {
    "ExecuteTime": {
     "end_time": "2024-03-12T17:07:48.281461Z",
     "start_time": "2024-03-12T17:07:09.378832Z"
    }
   },
   "outputs": [],
   "source": [
    "patlak_pim = pet_pim.GraphicalAnalysisParametricImage(input_tac_path='../../../../PracticeData/4DPET/1179307_v2_pTAC_resampled_on_scanner_times.txt',\n",
    "                                                     pet4D_img_path='../../../../PracticeData/4DPET/1179307_v2_FDG_on_mpr.nii.gz',\n",
    "                                                     output_directory='../../../../PracticeData/4DPET/',\n",
    "                                                     output_filename_prefix='test')\n",
    "patlak_pim.run_analysis(method_name='patlak', t_thresh_in_mins=30.0)\n",
    "patlak_pim.save_parametric_images()\n",
    "patlak_pim.save_analysis_properties()"
   ]
  },
  {
   "cell_type": "markdown",
   "id": "afc2062d",
   "metadata": {},
   "source": [
    "### Logan Image"
   ]
  },
  {
   "cell_type": "code",
   "execution_count": null,
   "id": "ed94b88a",
   "metadata": {
    "ExecuteTime": {
     "end_time": "2024-03-12T17:08:36.235605Z",
     "start_time": "2024-03-12T17:07:48.283078Z"
    }
   },
   "outputs": [],
   "source": [
    "logan_pim = pet_pim.GraphicalAnalysisParametricImage(input_tac_path='../../../../PracticeData/4DPET/1179307_v2_pTAC_resampled_on_scanner_times.txt',\n",
    "                                                     pet4D_img_path='../../../../PracticeData/4DPET/1179307_v2_FDG_on_mpr.nii.gz',\n",
    "                                                     output_directory='../../../../PracticeData/4DPET/',\n",
    "                                                     output_filename_prefix='test')\n",
    "logan_pim.run_analysis(method_name='logan', t_thresh_in_mins=30.0)\n",
    "logan_pim.save_parametric_images()\n",
    "logan_pim.save_analysis_properties()"
   ]
  },
  {
   "cell_type": "markdown",
   "id": "08bc383f",
   "metadata": {},
   "source": [
    "### Alt Logan Image"
   ]
  },
  {
   "cell_type": "code",
   "execution_count": null,
   "id": "7d1d7092",
   "metadata": {
    "ExecuteTime": {
     "end_time": "2024-03-12T17:09:22.096538Z",
     "start_time": "2024-03-12T17:08:36.237839Z"
    }
   },
   "outputs": [],
   "source": [
    "alt_logan_pim = pet_pim.GraphicalAnalysisParametricImage(input_tac_path='../../../../PracticeData/4DPET/1179307_v2_pTAC_resampled_on_scanner_times.txt',\n",
    "                                                     pet4D_img_path='../../../../PracticeData/4DPET/1179307_v2_FDG_on_mpr.nii.gz',\n",
    "                                                     output_directory='../../../../PracticeData/4DPET/',\n",
    "                                                     output_filename_prefix='test')\n",
    "alt_logan_pim.run_analysis(method_name='alt_logan', t_thresh_in_mins=30.0)\n",
    "alt_logan_pim.save_parametric_images()\n",
    "alt_logan_pim.save_analysis_properties()"
   ]
  },
  {
   "cell_type": "code",
   "execution_count": null,
   "id": "25335be0",
   "metadata": {},
   "outputs": [],
   "source": []
  }
 ],
 "metadata": {
  "kernelspec": {
   "display_name": "Python 3 (ipykernel)",
   "language": "python",
   "name": "python3"
  },
  "language_info": {
   "codemirror_mode": {
    "name": "ipython",
    "version": 3
   },
   "file_extension": ".py",
   "mimetype": "text/x-python",
   "name": "python",
   "nbconvert_exporter": "python",
   "pygments_lexer": "ipython3",
   "version": "3.9.18"
  },
  "toc": {
   "base_numbering": 1,
   "nav_menu": {},
   "number_sections": true,
   "sideBar": false,
   "skip_h1_title": false,
   "title_cell": "Table of Contents",
   "title_sidebar": "Contents",
   "toc_cell": false,
   "toc_position": {
    "height": "448.4px",
    "left": "233px",
    "top": "300.962px",
    "width": "412.4px"
   },
   "toc_section_display": true,
   "toc_window_display": true
  }
 },
 "nbformat": 4,
 "nbformat_minor": 5
}
