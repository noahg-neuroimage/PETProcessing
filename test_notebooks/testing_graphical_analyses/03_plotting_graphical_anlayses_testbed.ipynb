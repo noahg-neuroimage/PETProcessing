{
 "cells": [
  {
   "cell_type": "markdown",
   "id": "15656764",
   "metadata": {},
   "source": [
    "# Preamble"
   ]
  },
  {
   "cell_type": "code",
   "execution_count": 1,
   "id": "40410047",
   "metadata": {
    "ExecuteTime": {
     "end_time": "2024-06-17T20:41:38.017458Z",
     "start_time": "2024-06-17T20:41:35.090305Z"
    }
   },
   "outputs": [
    {
     "name": "stderr",
     "output_type": "stream",
     "text": [
      "/Users/furqandar/Library/Python/3.9/lib/python/site-packages/urllib3/__init__.py:34: NotOpenSSLWarning: urllib3 v2 only supports OpenSSL 1.1.1+, currently the 'ssl' module is compiled with 'LibreSSL 2.8.3'. See: https://github.com/urllib3/urllib3/issues/3020\n",
      "  warnings.warn(\n"
     ]
    }
   ],
   "source": [
    "import numpy as np\n",
    "import numba\n",
    "import matplotlib.pyplot as plt\n",
    "import seaborn as sns\n",
    "import petpal.kinetic_modeling.graphical_analysis as pet_grph\n",
    "import petpal.kinetic_modeling.parametric_images as pet_pim\n",
    "import nibabel\n",
    "import json\n",
    "import os\n",
    "from importlib import reload\n",
    "\n",
    "sns.set()\n",
    "sns.set_style(\"ticks\")\n",
    "sns.set_context(\"paper\", font_scale=1.6)\n",
    "plt.rcParams['font.family'] ='StixGeneral'\n",
    "plt.rcParams['mathtext.fontset'] = 'stix'"
   ]
  },
  {
   "cell_type": "markdown",
   "id": "09a36d34",
   "metadata": {},
   "source": [
    "# Using Noise Free TACs"
   ]
  },
  {
   "cell_type": "markdown",
   "id": "39b26e5f",
   "metadata": {},
   "source": [
    "## Loading In TAC Parameters"
   ]
  },
  {
   "cell_type": "code",
   "execution_count": 7,
   "id": "71ab090b",
   "metadata": {
    "ExecuteTime": {
     "end_time": "2024-03-12T20:05:18.565471Z",
     "start_time": "2024-03-12T20:05:18.560106Z"
    }
   },
   "outputs": [],
   "source": [
    "def count_parameter_sets(model_directories: dict) -> dict:\n",
    "    model_nums = {}\n",
    "    for model, directory in model_directories.items():\n",
    "        model_nums[model] = len([f for f in os.listdir(directory) if os.path.splitext(f)[1] == '.json'])\n",
    "    return model_nums"
   ]
  },
  {
   "cell_type": "code",
   "execution_count": 8,
   "id": "fde655c4",
   "metadata": {
    "ExecuteTime": {
     "end_time": "2024-03-12T20:05:18.718508Z",
     "start_time": "2024-03-12T20:05:18.713845Z"
    }
   },
   "outputs": [],
   "source": [
    "DIR_PRE = \"../../\"\n",
    "model_dirs = {\"1tcm\":f\"{DIR_PRE}data/tcm_tacs/1tcm/\",\n",
    "              \"serial_2tcm_k4zero\":f\"{DIR_PRE}data/tcm_tacs/serial_2tcm_k4zero/\",\n",
    "              \"serial_2tcm\":f\"{DIR_PRE}data/tcm_tacs/serial_2tcm/\"}"
   ]
  },
  {
   "cell_type": "code",
   "execution_count": 9,
   "id": "53fa5c08",
   "metadata": {
    "ExecuteTime": {
     "end_time": "2024-03-12T20:05:19.055412Z",
     "start_time": "2024-03-12T20:05:19.043806Z"
    }
   },
   "outputs": [],
   "source": [
    "MODELS_NUMS = count_parameter_sets(model_dirs)\n",
    "MODELS_NUMS"
   ]
  },
  {
   "cell_type": "code",
   "execution_count": 11,
   "id": "140c97bd",
   "metadata": {
    "ExecuteTime": {
     "end_time": "2024-03-12T20:05:39.215276Z",
     "start_time": "2024-03-12T20:05:39.210579Z"
    }
   },
   "outputs": [],
   "source": [
    "def safe_load_json(file_path):\n",
    "    try:\n",
    "        with open(file_path) as file:\n",
    "            return json.load(file)\n",
    "    except Exception as e:\n",
    "        print(f\"Couldn't read file {file_path}. Error: {e}\")\n",
    "        return None"
   ]
  },
  {
   "cell_type": "code",
   "execution_count": 12,
   "id": "dae40426",
   "metadata": {
    "ExecuteTime": {
     "end_time": "2024-03-12T20:05:45.319988Z",
     "start_time": "2024-03-12T20:05:45.309034Z"
    }
   },
   "outputs": [],
   "source": [
    "model_params = {\n",
    "    model: {f'set-{i:02}': safe_load_json(f'{DIR_PRE}data/tcm_tacs/{model}/params_{model}_set-{i:02}.json') for i in\n",
    "            range(num)} for model, num in MODELS_NUMS.items()}"
   ]
  },
  {
   "cell_type": "markdown",
   "id": "d66cc180",
   "metadata": {},
   "source": [
    "## Loading In TACs"
   ]
  },
  {
   "cell_type": "code",
   "execution_count": 195,
   "id": "b7ede424",
   "metadata": {
    "ExecuteTime": {
     "end_time": "2024-03-12T22:01:41.687289Z",
     "start_time": "2024-03-12T22:01:41.680191Z"
    }
   },
   "outputs": [],
   "source": [
    "def safe_load_tac(filename, stride=5):\n",
    "    try:\n",
    "        return np.array(np.loadtxt(filename)[::stride].T, dtype=float, order='C')\n",
    "    except Exception as e:\n",
    "        print(f\"Couldn't read file {filename}. Error: {e}\")\n",
    "        return None"
   ]
  },
  {
   "cell_type": "code",
   "execution_count": 196,
   "id": "5b774a5c",
   "metadata": {
    "ExecuteTime": {
     "end_time": "2024-03-12T22:01:43.081790Z",
     "start_time": "2024-03-12T22:01:43.075600Z"
    }
   },
   "outputs": [],
   "source": [
    "pTAC = safe_load_tac('../../data/tcm_tacs/fdg_plasma_clamp_evenly_resampled.txt')"
   ]
  },
  {
   "cell_type": "code",
   "execution_count": 197,
   "id": "56e44ac8",
   "metadata": {
    "ExecuteTime": {
     "end_time": "2024-03-12T22:01:43.398755Z",
     "start_time": "2024-03-12T22:01:43.382559Z"
    }
   },
   "outputs": [],
   "source": [
    "all_tacs = {}\n",
    "all_tacs['noise-free'] = {a_model: {f'set-{i:02}': safe_load_tac(\n",
    "    f'{DIR_PRE}data/tcm_tacs/{a_model}/noise_free/tac_{(\"_\".join(a_model.split(\"_\")[1:]) if \"serial_2tcm\" in a_model else a_model)}_set-{i:02}.txt')\n",
    "    for i in range(num)} for a_model, num in MODELS_NUMS.items()}\n",
    "all_tacs['gaussian-noise'] = {a_model: {f'set-{i:02}': safe_load_tac(\n",
    "    f'{DIR_PRE}data/tcm_tacs/{a_model}/gaussian_noise/tac_{(\"_\".join(a_model.split(\"_\")[1:]) if \"serial_2tcm\" in a_model else a_model)}_set-{i:02}.txt')\n",
    "    for i in range(num)} for a_model, num in MODELS_NUMS.items()}"
   ]
  },
  {
   "cell_type": "markdown",
   "id": "ffd03076",
   "metadata": {},
   "source": [
    "## Patlak Plots"
   ]
  },
  {
   "cell_type": "code",
   "execution_count": 41,
   "id": "30980b38",
   "metadata": {
    "ExecuteTime": {
     "end_time": "2024-03-12T21:08:03.028159Z",
     "start_time": "2024-03-12T21:08:03.024276Z"
    }
   },
   "outputs": [],
   "source": [
    "from cycler import cycler"
   ]
  },
  {
   "cell_type": "code",
   "execution_count": 132,
   "id": "e56aaf40",
   "metadata": {
    "ExecuteTime": {
     "end_time": "2024-03-12T21:42:50.793364Z",
     "start_time": "2024-03-12T21:42:50.787573Z"
    }
   },
   "outputs": [],
   "source": [
    "dar_cycler = cycler(color=['red', 'blue', 'green', 'yellow', 'purple', 'cyan', 'magenta'])\n",
    "plt.rc('axes', prop_cycle=dar_cycler)"
   ]
  },
  {
   "cell_type": "code",
   "execution_count": 19,
   "id": "c755b20d",
   "metadata": {
    "ExecuteTime": {
     "end_time": "2024-03-12T20:13:07.308112Z",
     "start_time": "2024-03-12T20:13:07.302239Z"
    }
   },
   "outputs": [],
   "source": [
    "def gen_patlak_plot(pTAC: np.ndarray[float, float], tTAC: np.ndarray[float, float]):\n",
    "    x = pet_grph.cumulative_trapezoidal_integral(xdata=pTAC[0], ydata=pTAC[1]) / pTAC[1]\n",
    "    y = tTAC[1]/pTAC[1]\n",
    "    return np.array([x, y])"
   ]
  },
  {
   "cell_type": "code",
   "execution_count": 21,
   "id": "e3c32d70",
   "metadata": {
    "ExecuteTime": {
     "end_time": "2024-03-12T20:15:41.606533Z",
     "start_time": "2024-03-12T20:15:41.599018Z"
    }
   },
   "outputs": [],
   "source": [
    "patlak_xLab = r\"$\\frac{\\int_{0}^{t}C_\\mathrm{P}(s)\\mathrm{d}s}{C_\\mathrm{P}(t)}$\"\n",
    "patlak_yLab = r\"$\\frac{R(t)}{C_\\mathrm{P}(t)}$\""
   ]
  },
  {
   "cell_type": "code",
   "execution_count": 22,
   "id": "7711e4bb",
   "metadata": {
    "ExecuteTime": {
     "end_time": "2024-03-12T20:15:49.107500Z",
     "start_time": "2024-03-12T20:15:49.097937Z"
    }
   },
   "outputs": [],
   "source": [
    "def params_dict_to_label(params):\n",
    "    tmp = []\n",
    "    for p, val in params.items():\n",
    "        tmp.append(f\"$k_{{{p[1:]}}}={float(val):<.2f}$\")\n",
    "    return \"; \".join(tmp)\n",
    "params_dict_to_label(model_params['1tcm']['set-00']['params'])"
   ]
  },
  {
   "cell_type": "code",
   "execution_count": 255,
   "id": "02c2131d",
   "metadata": {
    "ExecuteTime": {
     "end_time": "2024-03-13T18:17:29.892289Z",
     "start_time": "2024-03-13T18:17:29.864469Z"
    }
   },
   "outputs": [],
   "source": [
    "patlak_plot_kwargs = {'lw':1, 'alpha':0.9, 'ms':8, 'marker':'.'}\n",
    "\n",
    "def calc_patlak_x_and_y(pTAC, tTAC):\n",
    "    good_points = np.argwhere(pTAC[1] != 0.0).T[0]\n",
    "    xAr = pet_grph.cumulative_trapezoidal_integral(xdata=pTAC[0], ydata=pTAC[1])[good_points] / pTAC[1][good_points]\n",
    "    yAr = tTAC[1][good_points] / pTAC[1][good_points]\n",
    "    return xAr, yAr\n",
    "    \n",
    "def add_linear_patlak_plot(pTAC, tTAC, axObj = None):\n",
    "    if axObj is None:\n",
    "        axObj = plt.gca()\n",
    "    \n",
    "    xAr, yAr = calc_patlak_x_and_y(pTAC=pTAC, tTAC=tTAC)\n",
    "    \n",
    "    axObj.plot(xAr, yAr, '--', **patlak_plot_kwargs, zorder=1, color='black')\n",
    "    \n",
    "    return None\n",
    "\n",
    "def add_patlak_plot_shading(pTAC, tTAC, t_thresh_in_mins, axObj = None):\n",
    "    if axObj is None:\n",
    "        axObj = plt.gca()\n",
    "    good_points = np.argwhere(pTAC[1] != 0.0).T[0]\n",
    "    t_thresh = pet_grph.get_index_from_threshold(times_in_minutes=pTAC[0][good_points], \n",
    "                                                 t_thresh_in_minutes=t_thresh_in_mins)\n",
    "    \n",
    "    xAr, yAr = calc_patlak_x_and_y(pTAC=pTAC, tTAC=tTAC)\n",
    "    \n",
    "    axObj.axvspan(xAr[t_thresh], xAr[-1], color='gray', alpha=0.2, zorder=0)\n",
    "    return None\n",
    "\n",
    "def add_patlak_fit_points(pTAC, tTAC, t_thresh_in_mins, axObj = None):\n",
    "    if axObj is None:\n",
    "        axObj = plt.gca()\n",
    "    good_points = np.argwhere(pTAC[1] != 0.0).T[0]\n",
    "    t_thresh = pet_grph.get_index_from_threshold(times_in_minutes=pTAC[0][good_points], \n",
    "                                                 t_thresh_in_minutes=t_thresh_in_mins)\n",
    "    \n",
    "    xAr, yAr = calc_patlak_x_and_y(pTAC=pTAC, tTAC=tTAC)\n",
    "    \n",
    "    axObj.plot(xAr[t_thresh:], yAr[t_thresh:], 'o-', alpha=0.9, ms='5', zorder=2, color='blue')\n",
    "    return None\n",
    "\n",
    "def add_patlak_line(pTAC, tTAC, t_thresh_in_mins, axObj = None):\n",
    "    if axObj is None:\n",
    "        axObj = plt.gca()\n",
    "    \n",
    "    slope, intercept, rSq = pet_grph.patlak_analysis_with_rsquared(input_tac_values=pTAC[1],\n",
    "                                                             region_tac_values=tTAC[1],\n",
    "                                                             tac_times_in_minutes=pTAC[0],\n",
    "                                                             t_thresh_in_minutes=t_thresh_in_mins)\n",
    "    xAr, _ = calc_patlak_x_and_y(pTAC=pTAC, tTAC=tTAC)\n",
    "    yAr = slope*xAr + intercept\n",
    "    \n",
    "    axObj.plot(xAr, yAr, '-', color='orange', lw=2.5, zorder=3, label=f\"$K_1=${slope:<5.3f}\\n$V_T=${intercept:<5.3f}\\n$R^2=${rSq:<5.3f}\")\n",
    "    \n",
    "    \n",
    "def gen_patlak_figure(pTAC, tTAC, t_thresh_in_mins, figObj=None):\n",
    "    \n",
    "    if figObj is None:\n",
    "        fig, ax = plt.subplots(1, 2, constrained_layout=True, figsize=[8, 4], \n",
    "                               dpi=100, linewidth=3.0, edgecolor='k')\n",
    "        ax = ax.flatten()\n",
    "    print(type(fig))\n",
    "    for axId, anAx in enumerate(ax.flatten()):\n",
    "        add_linear_patlak_plot(pTAC=pTAC, tTAC=tTAC, axObj=anAx)\n",
    "        add_patlak_plot_shading(pTAC=pTAC, tTAC=tTAC, t_thresh_in_mins=40.0, axObj=anAx)\n",
    "        add_patlak_line(pTAC=pTAC, tTAC=tTAC, t_thresh_in_mins=40.0, axObj=anAx)\n",
    "        add_patlak_fit_points(pTAC=pTAC, tTAC=tTAC, t_thresh_in_mins=30.0, axObj=anAx)\n",
    "\n",
    "    ax[0].set(title=f\"Linear Plot\")\n",
    "    ax[1].set(title=f\"Log-Log Plot\", xscale='log', yscale='log')\n",
    "    ax[0].set_xlabel(patlak_xLab, fontsize=20)\n",
    "    ax[0].set_ylabel(patlak_yLab, fontsize=20)\n",
    "    ax[1].set_xlabel(patlak_xLab, fontsize=20)\n",
    "    ax[1].set_ylabel(patlak_yLab, fontsize=20)\n",
    "    fig.suptitle(f\"Patlak Plot\", ha='center', va='center')\n",
    "    fig.legend(*ax[0].get_legend_handles_labels(),\n",
    "               bbox_to_anchor=(1.0, 0.85), loc='upper left', \n",
    "               title='Patlak Analysis', edgecolor='black')\n",
    "    "
   ]
  },
  {
   "cell_type": "markdown",
   "id": "e855d04a",
   "metadata": {},
   "source": [
    "### Example Plots"
   ]
  },
  {
   "cell_type": "code",
   "execution_count": 256,
   "id": "320a5c10",
   "metadata": {
    "ExecuteTime": {
     "end_time": "2024-03-13T18:17:32.479051Z",
     "start_time": "2024-03-13T18:17:30.487861Z"
    },
    "scrolled": true
   },
   "outputs": [],
   "source": [
    "for a_model, num in MODELS_NUMS.items():\n",
    "    \n",
    "    for i in range(num):\n",
    "        tTAC = all_tacs['noise-free'][a_model][f\"set-{i:02}\"]\n",
    "        gen_patlak_figure(pTAC=pTAC, tTAC=tTAC, t_thresh_in_mins=35.0)\n",
    "        \n",
    "        plt.show()\n",
    "#     break"
   ]
  },
  {
   "cell_type": "code",
   "execution_count": 25,
   "id": "346300c3",
   "metadata": {
    "ExecuteTime": {
     "end_time": "2024-03-12T20:25:13.721288Z",
     "start_time": "2024-03-12T20:25:12.791037Z"
    }
   },
   "outputs": [],
   "source": [
    "for a_model, num in MODELS_NUMS.items():\n",
    "    myFig, myAx = plt.subplots(1, 2, constrained_layout=True, figsize=[8, 4], dpi=120, linewidth=3.0, edgecolor='k')\n",
    "    for i in range(num):\n",
    "        _params = model_params[a_model][f\"set-{i:02}\"]\n",
    "        _tTAC = all_tacs['noise-free'][a_model][f\"set-{i:02}\"]\n",
    "        patlak_vars = gen_patlak_plot(pTAC, _tTAC)\n",
    "        \n",
    "        myAx[0].plot(*patlak_vars, '.-', alpha=0.95, lw=2, \n",
    "                     #label=params_dict_to_label(_params['params']), \n",
    "                     color=f\"C{i}\",\n",
    "                     ms=8, mec='k', mew=0.5)\n",
    "        myAx[1].plot(*patlak_vars, '.-', alpha=0.95, lw=2, color=f\"C{i}\", ms=8, mec='k', mew=0.5)\n",
    "    \n",
    "    myAx[0].set(title=f\"Linear Plot\")\n",
    "    myAx[1].set(title=f\"Log-Log Plot\", xscale='log', yscale='log')\n",
    "    myAx[0].set_xlabel(patlak_xLab, fontsize=20)\n",
    "    myAx[0].set_ylabel(patlak_yLab, fontsize=20)\n",
    "    myAx[1].set_xlabel(patlak_xLab, fontsize=20)\n",
    "    myAx[1].set_ylabel(patlak_yLab, fontsize=20)\n",
    "    myFig.suptitle(f\"{_params['model']} Patlak Plots\", fontweight='bold')\n",
    "#     myFig.legend(bbox_to_anchor=(1.0, 0.6), loc='center left', title='Parameters')\n",
    "    plt.show()"
   ]
  },
  {
   "cell_type": "code",
   "execution_count": null,
   "id": "5a9a5ebd",
   "metadata": {},
   "outputs": [],
   "source": []
  },
  {
   "cell_type": "markdown",
   "id": "86d654c6",
   "metadata": {},
   "source": [
    "## Logan Plots"
   ]
  },
  {
   "cell_type": "code",
   "execution_count": null,
   "id": "a6119141",
   "metadata": {},
   "outputs": [],
   "source": [
    "def gen_logan_plot(pTAC, tTAC):\n",
    "    x = pet_gph.cumulative_trapezoidal_integral(xdata=pTAC[0], ydata=pTAC[1]) / tTAC[1]\n",
    "    y = pet_gph.cumulative_trapezoidal_integral(xdata=tTAC[0], ydata=tTAC[1]) / tTAC[1]\n",
    "    return np.array([x, y])\n",
    "\n",
    "def gen_alt_logan_plot(pTAC, tTAC):\n",
    "    x = pet_gph.cumulative_trapezoidal_integral(xdata=pTAC[0], ydata=pTAC[1]) / pTAC[1]\n",
    "    y = pet_gph.cumulative_trapezoidal_integral(xdata=tTAC[0], ydata=tTAC[1]) / pTAC[1]\n",
    "    return np.array([x, y])\n",
    "    "
   ]
  },
  {
   "cell_type": "markdown",
   "id": "dbbd3c97",
   "metadata": {},
   "source": [
    "# Testing Implementation From Package"
   ]
  },
  {
   "cell_type": "code",
   "execution_count": 327,
   "id": "3778bc47",
   "metadata": {
    "ExecuteTime": {
     "end_time": "2024-03-14T16:55:03.361876Z",
     "start_time": "2024-03-14T16:55:03.355465Z"
    }
   },
   "outputs": [],
   "source": [
    "import petpal.visualizations.graphical_plots as pet_plt\n",
    "reload(pet_plt)"
   ]
  },
  {
   "cell_type": "markdown",
   "id": "392044e8",
   "metadata": {},
   "source": [
    "## Patlak Plots"
   ]
  },
  {
   "cell_type": "code",
   "execution_count": 338,
   "id": "1b202c71",
   "metadata": {
    "ExecuteTime": {
     "end_time": "2024-03-14T17:00:21.731402Z",
     "start_time": "2024-03-14T17:00:19.287319Z"
    },
    "scrolled": false
   },
   "outputs": [],
   "source": [
    "for a_model, num in MODELS_NUMS.items():\n",
    "    \n",
    "    for i in range(num):\n",
    "        tTAC = all_tacs['noise-free'][a_model][f\"set-{i:02}\"]\n",
    "        patlak_plot = pet_plt.PatlakPlot(tTAC=tTAC, pTAC=pTAC, t_thresh_in_mins=45.0)\n",
    "        patlak_plot.generate_figure(line_kwargs=dict(lw=2, alpha=0.95, color='red', label=patlak_plot.generate_label_from_fit_params()), \n",
    "                                    shading_kwargs=dict(color='palegreen', alpha=0.2),\n",
    "                                    data_kwargs=dict(alpha=0.85, color='k', marker='.'))\n",
    "        plt.show()\n",
    "#     break"
   ]
  },
  {
   "cell_type": "markdown",
   "id": "96996103",
   "metadata": {},
   "source": [
    "## Logan Plots"
   ]
  },
  {
   "cell_type": "code",
   "execution_count": 339,
   "id": "de72ded4",
   "metadata": {
    "ExecuteTime": {
     "end_time": "2024-03-14T17:00:31.354529Z",
     "start_time": "2024-03-14T17:00:29.352718Z"
    },
    "scrolled": false
   },
   "outputs": [],
   "source": [
    "for a_model, num in MODELS_NUMS.items():\n",
    "    \n",
    "    for i in range(num):\n",
    "        tTAC = all_tacs['noise-free'][a_model][f\"set-{i:02}\"]\n",
    "        patlak_plot = pet_plt.LoganPlot(tTAC=tTAC, pTAC=pTAC, t_thresh_in_mins=45.0)\n",
    "        patlak_plot.generate_figure()\n",
    "        \n",
    "        \n",
    "        plt.show()\n",
    "#     break"
   ]
  },
  {
   "cell_type": "markdown",
   "id": "f7b769b6",
   "metadata": {},
   "source": [
    "## Alt Logan Plots"
   ]
  },
  {
   "cell_type": "code",
   "execution_count": 324,
   "id": "09dabe25",
   "metadata": {
    "ExecuteTime": {
     "end_time": "2024-03-14T16:14:04.174705Z",
     "start_time": "2024-03-14T16:14:01.998789Z"
    },
    "scrolled": false
   },
   "outputs": [],
   "source": [
    "for a_model, num in MODELS_NUMS.items():\n",
    "    \n",
    "    for i in range(num):\n",
    "        tTAC = all_tacs['noise-free'][a_model][f\"set-{i:02}\"]\n",
    "        patlak_plot = pet_plt.AltLoganPlot(tTAC=tTAC, pTAC=pTAC, t_thresh_in_mins=45.0)\n",
    "        patlak_plot.generate_figure()\n",
    "        \n",
    "        plt.show()\n",
    "#     break"
   ]
  },
  {
   "cell_type": "markdown",
   "id": "05e3d5aa",
   "metadata": {
    "ExecuteTime": {
     "end_time": "2024-03-14T19:26:57.527873Z",
     "start_time": "2024-03-14T19:26:57.522720Z"
    }
   },
   "source": [
    "# Generating Plots From Reading JSON Files Of Analyses"
   ]
  },
  {
   "cell_type": "markdown",
   "id": "6954c3b9",
   "metadata": {},
   "source": [
    "## Testing Reading JSON From Analysis"
   ]
  },
  {
   "cell_type": "code",
   "execution_count": 347,
   "id": "67d9305a",
   "metadata": {
    "ExecuteTime": {
     "end_time": "2024-03-18T20:46:53.197700Z",
     "start_time": "2024-03-18T20:46:53.189678Z"
    }
   },
   "outputs": [],
   "source": [
    "test_json = \"/Users/furqandar/Desktop/Work/BrierLab/PracticeData/4DPET/test-patlak-analysis-props.json\"\n",
    "\n",
    "test_params = {}\n",
    "\n",
    "with open(test_json) as dFile:\n",
    "    test_params = json.load(fp=dFile)\n",
    "    \n",
    "test_params"
   ]
  },
  {
   "cell_type": "code",
   "execution_count": 348,
   "id": "863929e3",
   "metadata": {
    "ExecuteTime": {
     "end_time": "2024-03-18T20:46:54.703042Z",
     "start_time": "2024-03-18T20:46:54.698680Z"
    }
   },
   "outputs": [],
   "source": [
    "ptac_path = test_params[\"FilePathPTAC\"]\n",
    "ttac_path = test_params[\"FilePathTTAC\"]\n",
    "t_thresh_time = test_params[\"ThresholdTime\"]\n",
    "\n"
   ]
  },
  {
   "cell_type": "code",
   "execution_count": 350,
   "id": "de649f4c",
   "metadata": {
    "ExecuteTime": {
     "end_time": "2024-03-18T20:47:03.596351Z",
     "start_time": "2024-03-18T20:47:03.268962Z"
    }
   },
   "outputs": [],
   "source": [
    "logan_plot = pet_plt.PatlakPlot(pTAC=pet_grph._safe_load_tac(ptac_path),\n",
    "                  tTAC=pet_grph._safe_load_tac(ttac_path),\n",
    "                  t_thresh_in_mins=t_thresh_time)\n",
    "logan_plot.generate_figure()\n",
    "\n",
    "plt.show()"
   ]
  },
  {
   "cell_type": "markdown",
   "id": "b53af6c7",
   "metadata": {},
   "source": [
    "# Testing File Path Based Image Saving"
   ]
  },
  {
   "cell_type": "code",
   "execution_count": 2,
   "id": "f349d1c3",
   "metadata": {
    "ExecuteTime": {
     "end_time": "2024-06-17T20:42:08.906893Z",
     "start_time": "2024-06-17T20:42:08.902515Z"
    }
   },
   "outputs": [],
   "source": [
    "import petpal.visualizations.graphical_plots as pet_plt\n",
    "from importlib import reload"
   ]
  },
  {
   "cell_type": "code",
   "execution_count": 3,
   "id": "9947b731",
   "metadata": {
    "ExecuteTime": {
     "end_time": "2024-06-17T20:42:10.281966Z",
     "start_time": "2024-06-17T20:42:10.270050Z"
    }
   },
   "outputs": [
    {
     "data": {
      "text/plain": [
       "<module 'petpal.visualizations.graphical_plots' from '/Users/furqandar/Library/Python/3.9/lib/python/site-packages/petpal/visualizations/graphical_plots.py'>"
      ]
     },
     "execution_count": 3,
     "metadata": {},
     "output_type": "execute_result"
    }
   ],
   "source": [
    "reload(pet_plt)"
   ]
  },
  {
   "cell_type": "code",
   "execution_count": 4,
   "id": "58755e8c",
   "metadata": {
    "ExecuteTime": {
     "end_time": "2024-06-17T20:42:11.264041Z",
     "start_time": "2024-06-17T20:42:11.255285Z"
    }
   },
   "outputs": [
    {
     "data": {
      "text/plain": [
       "{'FilePathPTAC': '/Users/furqandar/Desktop/Work/BrierLab/Code/PETProcessing/data/tcm_tacs/fdg_plasma_clamp_evenly_resampled.txt',\n",
       " 'FilePathTTAC': '/Users/furqandar/Desktop/Work/BrierLab/Code/PETProcessing/data/tcm_tacs/serial_2tcm_k4zero/gaussian_noise/tac_2tcm_k4zero_set-01.txt',\n",
       " 'MethodName': 'patlak',\n",
       " 'ThresholdTime': 30.0,\n",
       " 'StartFrameTime': 30.1196,\n",
       " 'EndFrameTime': 119.876,\n",
       " 'NumberOfPointsFit': 299,\n",
       " 'Slope': 0.16389227863069047,\n",
       " 'Intercept': 0.75737641363798,\n",
       " 'RSquared': 0.9802031815646701}"
      ]
     },
     "execution_count": 4,
     "metadata": {},
     "output_type": "execute_result"
    }
   ],
   "source": [
    "import json\n",
    "test_json = \"/Users/furqandar/Desktop/Work/BrierLab/PracticeData/4DPET/test-patlak-analysis-props.json\"\n",
    "\n",
    "test_params = {}\n",
    "\n",
    "with open(test_json) as dFile:\n",
    "    test_params = json.load(fp=dFile)\n",
    "    \n",
    "test_params"
   ]
  },
  {
   "cell_type": "code",
   "execution_count": 5,
   "id": "b069a0b9",
   "metadata": {
    "ExecuteTime": {
     "end_time": "2024-06-17T20:42:12.587784Z",
     "start_time": "2024-06-17T20:42:12.582850Z"
    }
   },
   "outputs": [],
   "source": [
    "ptac_path = test_params[\"FilePathPTAC\"]\n",
    "ttac_path = test_params[\"FilePathTTAC\"]\n",
    "t_thresh_time = test_params[\"ThresholdTime\"]\n",
    "\n"
   ]
  },
  {
   "cell_type": "code",
   "execution_count": 6,
   "id": "5f9449aa",
   "metadata": {
    "ExecuteTime": {
     "end_time": "2024-06-17T20:42:23.520738Z",
     "start_time": "2024-06-17T20:42:14.056079Z"
    }
   },
   "outputs": [],
   "source": [
    "grph_plot = pet_plt.Plot(input_tac_path=ptac_path,\n",
    "                         roi_tac_path=ttac_path,\n",
    "                         threshold_in_mins=30.0,\n",
    "                         method_name='patlak', \n",
    "                         output_directory='../../../../PracticeData/4DPET/',\n",
    "                         output_filename_prefix=\"plot\")\n",
    "grph_plot.save_figure()"
   ]
  },
  {
   "cell_type": "code",
   "execution_count": null,
   "id": "855ae6bb",
   "metadata": {},
   "outputs": [],
   "source": []
  }
 ],
 "metadata": {
  "kernelspec": {
   "display_name": "Python 3 (ipykernel)",
   "language": "python",
   "name": "python3"
  },
  "language_info": {
   "codemirror_mode": {
    "name": "ipython",
    "version": 3
   },
   "file_extension": ".py",
   "mimetype": "text/x-python",
   "name": "python",
   "nbconvert_exporter": "python",
   "pygments_lexer": "ipython3",
   "version": "3.9.6"
  },
  "toc": {
   "base_numbering": 1,
   "nav_menu": {},
   "number_sections": true,
   "sideBar": true,
   "skip_h1_title": false,
   "title_cell": "Table of Contents",
   "title_sidebar": "Contents",
   "toc_cell": false,
   "toc_position": {
    "height": "calc(100% - 180px)",
    "left": "10px",
    "top": "150px",
    "width": "649px"
   },
   "toc_section_display": true,
   "toc_window_display": true
  }
 },
 "nbformat": 4,
 "nbformat_minor": 5
}
